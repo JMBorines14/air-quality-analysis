{
 "cells": [
  {
   "cell_type": "markdown",
   "id": "b91529e8",
   "metadata": {},
   "source": [
    "# CS 132 21.2 Machine Project\n",
    "# Florida Traffic and Air Quality Index Analysis Notebook\n",
    "\n",
    "## About this Project\n",
    "This project aims to determine the correlation between the Air Quality Index in the different counties in Florida, USA with respect to its traffic volume, temperature, and precipitation. Specifically, this project aims to know the following:\n",
    "- How correlated are the traffic volume, temperature, and precipitation in terms of the PM 2.5 Air Quality Index in the different counties in Florida? Which counties tend to have a stronger correlation in terms of a global ranking compared to other counties?\n",
    "- For the top county in terms of a global ranking according to its correlation coefficients, by how much does the AQI change with respect to a change in traffic volume, temperature, and precipitation?\n",
    "\n",
    "## About this Notebook\n",
    "This Python notebook is dedicated for the following steps in CS 132 21.2 project:\n",
    "- Cleaning and processing the datasets further\n",
    "- Exploratory data analysis\n",
    "- Using linear regression to model the increase in AQI per amount of cars that are added\n",
    "- Visualizing the data\n",
    "\n",
    "This notebook/report is prepared by:\n",
    "- James Matthew G. Borines\n",
    "- Alyssa Beatrice A. Diokno\n",
    "- Derryn Joi O. Martirez\n",
    "- Jan Albert D. Quidet\n",
    "\n",
    "## Preliminaries\n",
    "\n",
    "The following external libraries used in this notebook is given by the list below. Make sure that the following are installed in your machine before running subsequent cells. These libraries were installed via `pip`: `pip install <library-name>`:\n",
    "- `pandas`\n",
    "- `seaborn`\n",
    "- `sklearn`\n",
    "- `matplotlib`\n",
    "- `numpy`\n",
    "\n",
    "Run the cell below to load all dependencies and libraries."
   ]
  },
  {
   "cell_type": "code",
   "execution_count": 1,
   "id": "118078e5",
   "metadata": {},
   "outputs": [],
   "source": [
    "import pandas as pd\n",
    "import seaborn as sns\n",
    "import math\n",
    "import numpy as np\n",
    "import matplotlib.pyplot as plt\n",
    "\n",
    "from sklearn.model_selection import train_test_split\n",
    "from sklearn.utils import shuffle\n",
    "from sklearn.linear_model import LinearRegression\n",
    "from sklearn.metrics import mean_squared_error"
   ]
  },
  {
   "cell_type": "markdown",
   "id": "66860ccd",
   "metadata": {},
   "source": [
    "## Data Sources and Datasets\n",
    "\n",
    "The following datasets and data sources were used for this project:\n",
    "- The traffic dataset from Florida was obtained from this link: [https://www.fdot.gov/statistics/trafficdata/default.shtm](https://www.fdot.gov/statistics/trafficdata/default.shtm)\n",
    "- The air quality dataset from Florida was obtained from this link: [https://aqs.epa.gov/aqsweb/airdata/download_files.html#AQI](https://aqs.epa.gov/aqsweb/airdata/download_files.html#AQI)\n",
    "- The weather dataset from Florida was obtained from this link: [https://climatecenter.fsu.edu/climate-data-access-tools/downloadable-data](https://climatecenter.fsu.edu/climate-data-access-tools/downloadable-data)\n",
    "\n",
    "The traffic dataset and the weather dataset are composed of multiple downloaded CSV files, which were preprocessed through another notebook. For a complete list of the project repository containing the Python notebooks, the preprocessed data files, and the raw files, you may visit the GitHub repository: [https://github.com/JMBorines14/air-quality-analysis](https://github.com/JMBorines14/air-quality-analysis)\n",
    "\n",
    "However, the collected datasets were limited to a period of January 1, 2020 to July 7, 2020 since the data source for the traffic dataset only recorded the traffic volume on these dates. With this, the air quality and weather dataset have to be adjusted to include the date range."
   ]
  },
  {
   "cell_type": "markdown",
   "id": "953b584d",
   "metadata": {},
   "source": [
    "## Loading Datasets\n",
    "\n",
    "We define two dataframe variables, which will be used throughout the duration of this notebook/report:\n",
    "- `traffic_data`: pertains to the traffic data in Florida\n",
    "- `airq_data`: pertains to the air quality data in Florida\n",
    "- `weather_data`: pertains to the weather data in Florida\n",
    "\n",
    "Both of these datasets are preprocessed beforehand.\n",
    "- `traffic_data` was preprocessed through the `Traffic Data Preprocessing Notebook.ipynb`\n",
    "- `airq_data` was preprocessed through the `Air Quality Preprocessing Notebook.ipynb`\n",
    "- `weather_data` was preprocessed through the `Weather Preprocessing Notebook.ipynb`\n",
    "\n",
    "It must be noted that the `traffic_data` and `weather_data` were preprocessed from *multiple* dataset files."
   ]
  },
  {
   "cell_type": "code",
   "execution_count": 2,
   "id": "3a560967",
   "metadata": {},
   "outputs": [],
   "source": [
    "traffic_data = pd.read_csv('florida_traffic_data.csv')\n",
    "weather_data = pd.read_csv('florida_weather_data.csv')\n",
    "airq_data = pd.read_csv('florida_aqi_data.csv')"
   ]
  },
  {
   "cell_type": "code",
   "execution_count": 3,
   "id": "7064eb6f",
   "metadata": {},
   "outputs": [
    {
     "data": {
      "text/html": [
       "<div>\n",
       "<style scoped>\n",
       "    .dataframe tbody tr th:only-of-type {\n",
       "        vertical-align: middle;\n",
       "    }\n",
       "\n",
       "    .dataframe tbody tr th {\n",
       "        vertical-align: top;\n",
       "    }\n",
       "\n",
       "    .dataframe thead th {\n",
       "        text-align: right;\n",
       "    }\n",
       "</style>\n",
       "<table border=\"1\" class=\"dataframe\">\n",
       "  <thead>\n",
       "    <tr style=\"text-align: right;\">\n",
       "      <th></th>\n",
       "      <th>01/01</th>\n",
       "      <th>01/02</th>\n",
       "      <th>01/03</th>\n",
       "      <th>01/04</th>\n",
       "      <th>01/05</th>\n",
       "      <th>01/06</th>\n",
       "      <th>01/07</th>\n",
       "      <th>01/08</th>\n",
       "      <th>01/09</th>\n",
       "      <th>01/10</th>\n",
       "      <th>...</th>\n",
       "      <th>06/29</th>\n",
       "      <th>06/30</th>\n",
       "      <th>07/01</th>\n",
       "      <th>07/02</th>\n",
       "      <th>07/03</th>\n",
       "      <th>07/04</th>\n",
       "      <th>07/05</th>\n",
       "      <th>07/06</th>\n",
       "      <th>07/07</th>\n",
       "      <th>COUNTY</th>\n",
       "    </tr>\n",
       "  </thead>\n",
       "  <tbody>\n",
       "    <tr>\n",
       "      <th>0</th>\n",
       "      <td>93577</td>\n",
       "      <td>130263</td>\n",
       "      <td>137751</td>\n",
       "      <td>110805</td>\n",
       "      <td>101379</td>\n",
       "      <td>120925</td>\n",
       "      <td>117384</td>\n",
       "      <td>122200</td>\n",
       "      <td>125525</td>\n",
       "      <td>133191</td>\n",
       "      <td>...</td>\n",
       "      <td>98897</td>\n",
       "      <td>99327</td>\n",
       "      <td>102682</td>\n",
       "      <td>111925</td>\n",
       "      <td>103217</td>\n",
       "      <td>71816</td>\n",
       "      <td>81094</td>\n",
       "      <td>99167</td>\n",
       "      <td>96529</td>\n",
       "      <td>Charlotte</td>\n",
       "    </tr>\n",
       "    <tr>\n",
       "      <th>1</th>\n",
       "      <td>27107</td>\n",
       "      <td>42907</td>\n",
       "      <td>45616</td>\n",
       "      <td>33070</td>\n",
       "      <td>32908</td>\n",
       "      <td>41046</td>\n",
       "      <td>43203</td>\n",
       "      <td>44375</td>\n",
       "      <td>45091</td>\n",
       "      <td>47476</td>\n",
       "      <td>...</td>\n",
       "      <td>35886</td>\n",
       "      <td>38459</td>\n",
       "      <td>43349</td>\n",
       "      <td>46666</td>\n",
       "      <td>45621</td>\n",
       "      <td>34863</td>\n",
       "      <td>31295</td>\n",
       "      <td>40701</td>\n",
       "      <td>42047</td>\n",
       "      <td>Citrus</td>\n",
       "    </tr>\n",
       "    <tr>\n",
       "      <th>2</th>\n",
       "      <td>236551</td>\n",
       "      <td>325565</td>\n",
       "      <td>338452</td>\n",
       "      <td>284312</td>\n",
       "      <td>264567</td>\n",
       "      <td>314038</td>\n",
       "      <td>304515</td>\n",
       "      <td>310861</td>\n",
       "      <td>318654</td>\n",
       "      <td>335605</td>\n",
       "      <td>...</td>\n",
       "      <td>216490</td>\n",
       "      <td>214114</td>\n",
       "      <td>220510</td>\n",
       "      <td>234920</td>\n",
       "      <td>218501</td>\n",
       "      <td>147360</td>\n",
       "      <td>165241</td>\n",
       "      <td>213985</td>\n",
       "      <td>207772</td>\n",
       "      <td>Collier</td>\n",
       "    </tr>\n",
       "    <tr>\n",
       "      <th>3</th>\n",
       "      <td>15620</td>\n",
       "      <td>22611</td>\n",
       "      <td>24145</td>\n",
       "      <td>18099</td>\n",
       "      <td>18292</td>\n",
       "      <td>22028</td>\n",
       "      <td>21675</td>\n",
       "      <td>22571</td>\n",
       "      <td>23220</td>\n",
       "      <td>25535</td>\n",
       "      <td>...</td>\n",
       "      <td>18203</td>\n",
       "      <td>18602</td>\n",
       "      <td>18885</td>\n",
       "      <td>20446</td>\n",
       "      <td>18055</td>\n",
       "      <td>12816</td>\n",
       "      <td>14553</td>\n",
       "      <td>18841</td>\n",
       "      <td>17845</td>\n",
       "      <td>Desoto</td>\n",
       "    </tr>\n",
       "    <tr>\n",
       "      <th>4</th>\n",
       "      <td>3437</td>\n",
       "      <td>4675</td>\n",
       "      <td>5495</td>\n",
       "      <td>3620</td>\n",
       "      <td>3310</td>\n",
       "      <td>4655</td>\n",
       "      <td>4581</td>\n",
       "      <td>4488</td>\n",
       "      <td>4883</td>\n",
       "      <td>5273</td>\n",
       "      <td>...</td>\n",
       "      <td>3963</td>\n",
       "      <td>3847</td>\n",
       "      <td>4235</td>\n",
       "      <td>4159</td>\n",
       "      <td>3614</td>\n",
       "      <td>2638</td>\n",
       "      <td>2901</td>\n",
       "      <td>3808</td>\n",
       "      <td>3913</td>\n",
       "      <td>Glades</td>\n",
       "    </tr>\n",
       "  </tbody>\n",
       "</table>\n",
       "<p>5 rows × 185 columns</p>\n",
       "</div>"
      ],
      "text/plain": [
       "    01/01   01/02   01/03   01/04   01/05   01/06   01/07   01/08   01/09  \\\n",
       "0   93577  130263  137751  110805  101379  120925  117384  122200  125525   \n",
       "1   27107   42907   45616   33070   32908   41046   43203   44375   45091   \n",
       "2  236551  325565  338452  284312  264567  314038  304515  310861  318654   \n",
       "3   15620   22611   24145   18099   18292   22028   21675   22571   23220   \n",
       "4    3437    4675    5495    3620    3310    4655    4581    4488    4883   \n",
       "\n",
       "    01/10  ...   06/29   06/30   07/01   07/02   07/03   07/04   07/05  \\\n",
       "0  133191  ...   98897   99327  102682  111925  103217   71816   81094   \n",
       "1   47476  ...   35886   38459   43349   46666   45621   34863   31295   \n",
       "2  335605  ...  216490  214114  220510  234920  218501  147360  165241   \n",
       "3   25535  ...   18203   18602   18885   20446   18055   12816   14553   \n",
       "4    5273  ...    3963    3847    4235    4159    3614    2638    2901   \n",
       "\n",
       "    07/06   07/07     COUNTY  \n",
       "0   99167   96529  Charlotte  \n",
       "1   40701   42047     Citrus  \n",
       "2  213985  207772    Collier  \n",
       "3   18841   17845     Desoto  \n",
       "4    3808    3913     Glades  \n",
       "\n",
       "[5 rows x 185 columns]"
      ]
     },
     "execution_count": 3,
     "metadata": {},
     "output_type": "execute_result"
    }
   ],
   "source": [
    "traffic_data.head()"
   ]
  },
  {
   "cell_type": "markdown",
   "id": "6f5eee85",
   "metadata": {},
   "source": [
    "The preprocessed traffic data contains the following information:\n",
    "- Each row represents a county in Florida that has traffic data\n",
    "- Each column represents a date in which traffic data was recorded\n",
    "- Each cell represents the total volume of traffic for a particular county on a particular date.\n",
    "\n",
    "For example, `traffic_data[0]` contains the traffic data for \"Charlotte\" county from January 1 to July 7, 2020. "
   ]
  },
  {
   "cell_type": "code",
   "execution_count": 4,
   "id": "a6bb4d26",
   "metadata": {},
   "outputs": [
    {
     "data": {
      "text/html": [
       "<div>\n",
       "<style scoped>\n",
       "    .dataframe tbody tr th:only-of-type {\n",
       "        vertical-align: middle;\n",
       "    }\n",
       "\n",
       "    .dataframe tbody tr th {\n",
       "        vertical-align: top;\n",
       "    }\n",
       "\n",
       "    .dataframe thead th {\n",
       "        text-align: right;\n",
       "    }\n",
       "</style>\n",
       "<table border=\"1\" class=\"dataframe\">\n",
       "  <thead>\n",
       "    <tr style=\"text-align: right;\">\n",
       "      <th></th>\n",
       "      <th>COUNTY</th>\n",
       "      <th>DATE</th>\n",
       "      <th>PRECIPITATION</th>\n",
       "      <th>MEAN TEMP</th>\n",
       "    </tr>\n",
       "  </thead>\n",
       "  <tbody>\n",
       "    <tr>\n",
       "      <th>0</th>\n",
       "      <td>Alachua</td>\n",
       "      <td>01/01</td>\n",
       "      <td>0.00000</td>\n",
       "      <td>52.5</td>\n",
       "    </tr>\n",
       "    <tr>\n",
       "      <th>1</th>\n",
       "      <td>Alachua</td>\n",
       "      <td>01/02</td>\n",
       "      <td>0.00000</td>\n",
       "      <td>61.5</td>\n",
       "    </tr>\n",
       "    <tr>\n",
       "      <th>2</th>\n",
       "      <td>Alachua</td>\n",
       "      <td>01/03</td>\n",
       "      <td>0.00001</td>\n",
       "      <td>73.0</td>\n",
       "    </tr>\n",
       "    <tr>\n",
       "      <th>3</th>\n",
       "      <td>Alachua</td>\n",
       "      <td>01/04</td>\n",
       "      <td>0.68000</td>\n",
       "      <td>63.0</td>\n",
       "    </tr>\n",
       "    <tr>\n",
       "      <th>4</th>\n",
       "      <td>Alachua</td>\n",
       "      <td>01/05</td>\n",
       "      <td>0.00000</td>\n",
       "      <td>50.0</td>\n",
       "    </tr>\n",
       "  </tbody>\n",
       "</table>\n",
       "</div>"
      ],
      "text/plain": [
       "    COUNTY   DATE  PRECIPITATION  MEAN TEMP\n",
       "0  Alachua  01/01        0.00000       52.5\n",
       "1  Alachua  01/02        0.00000       61.5\n",
       "2  Alachua  01/03        0.00001       73.0\n",
       "3  Alachua  01/04        0.68000       63.0\n",
       "4  Alachua  01/05        0.00000       50.0"
      ]
     },
     "execution_count": 4,
     "metadata": {},
     "output_type": "execute_result"
    }
   ],
   "source": [
    "weather_data.head()"
   ]
  },
  {
   "cell_type": "markdown",
   "id": "74e12e49",
   "metadata": {},
   "source": [
    "The preprocessed weather data contains the following information:\n",
    "\n",
    "- The `COUNTY` column signifies the county in which weather data is recorded\n",
    "- The `DATE` column signifies the date in which weather data is recorded\n",
    "- The `PRECIPITATION` column signifies the average precipitation level for the county at that date (in inches)\n",
    "- The `MEAN TEMP` column signifies the average temperature for the county at that date (in degrees Fahrenheit)"
   ]
  },
  {
   "cell_type": "code",
   "execution_count": 5,
   "id": "497fd46a",
   "metadata": {
    "scrolled": true
   },
   "outputs": [
    {
     "data": {
      "text/html": [
       "<div>\n",
       "<style scoped>\n",
       "    .dataframe tbody tr th:only-of-type {\n",
       "        vertical-align: middle;\n",
       "    }\n",
       "\n",
       "    .dataframe tbody tr th {\n",
       "        vertical-align: top;\n",
       "    }\n",
       "\n",
       "    .dataframe thead th {\n",
       "        text-align: right;\n",
       "    }\n",
       "</style>\n",
       "<table border=\"1\" class=\"dataframe\">\n",
       "  <thead>\n",
       "    <tr style=\"text-align: right;\">\n",
       "      <th></th>\n",
       "      <th>COUNTY</th>\n",
       "      <th>DATE</th>\n",
       "      <th>AQI</th>\n",
       "      <th>PARAMETER</th>\n",
       "    </tr>\n",
       "  </thead>\n",
       "  <tbody>\n",
       "    <tr>\n",
       "      <th>0</th>\n",
       "      <td>Alachua</td>\n",
       "      <td>01/03</td>\n",
       "      <td>35</td>\n",
       "      <td>PM2.5</td>\n",
       "    </tr>\n",
       "    <tr>\n",
       "      <th>1</th>\n",
       "      <td>Alachua</td>\n",
       "      <td>01/08</td>\n",
       "      <td>52</td>\n",
       "      <td>PM2.5</td>\n",
       "    </tr>\n",
       "    <tr>\n",
       "      <th>2</th>\n",
       "      <td>Alachua</td>\n",
       "      <td>01/09</td>\n",
       "      <td>48</td>\n",
       "      <td>PM2.5</td>\n",
       "    </tr>\n",
       "    <tr>\n",
       "      <th>3</th>\n",
       "      <td>Alachua</td>\n",
       "      <td>01/11</td>\n",
       "      <td>38</td>\n",
       "      <td>PM2.5</td>\n",
       "    </tr>\n",
       "    <tr>\n",
       "      <th>4</th>\n",
       "      <td>Alachua</td>\n",
       "      <td>01/12</td>\n",
       "      <td>37</td>\n",
       "      <td>PM2.5</td>\n",
       "    </tr>\n",
       "  </tbody>\n",
       "</table>\n",
       "</div>"
      ],
      "text/plain": [
       "    COUNTY   DATE  AQI PARAMETER\n",
       "0  Alachua  01/03   35     PM2.5\n",
       "1  Alachua  01/08   52     PM2.5\n",
       "2  Alachua  01/09   48     PM2.5\n",
       "3  Alachua  01/11   38     PM2.5\n",
       "4  Alachua  01/12   37     PM2.5"
      ]
     },
     "execution_count": 5,
     "metadata": {},
     "output_type": "execute_result"
    }
   ],
   "source": [
    "airq_data.head()"
   ]
  },
  {
   "cell_type": "markdown",
   "id": "a7df6b99",
   "metadata": {},
   "source": [
    "The preprocessed air quality data contains the following information:\n",
    "- The `COUNTY` column signifies the county in which air quality data is recorded\n",
    "- The `DATE` column signifies the date in which air quality data is recorded\n",
    "- The `AQI` column signifies the Air Quality Index recorded for that particular county at a particular date\n",
    "- The `PARAMETER` column defines the *recorded parameter* to which AQI is recorded. The original dataset contains other defining parameters, such as *Ozone*, *CO*, and *SO2*.\n",
    "\n",
    "Each cell represents the PM2.5 air quality index measurement for a particular county and particular date."
   ]
  },
  {
   "cell_type": "markdown",
   "id": "9452dc21",
   "metadata": {},
   "source": [
    "# PART 1: Preprocessing Data\n",
    "\n",
    "There are only certain counties that have been recorded by the air quality data of Florida. Also, only certain counties have data on precipitation and temperature. We can then filter the traffic data so that its counties are consistent with the recorded counties in the air quality and weather data."
   ]
  },
  {
   "cell_type": "code",
   "execution_count": 6,
   "id": "b1d30083",
   "metadata": {},
   "outputs": [
    {
     "data": {
      "text/plain": [
       "array(['Alachua', 'Baker', 'Bay', 'Brevard', 'Broward', 'Citrus',\n",
       "       'Collier', 'Columbia', 'Duval', 'Escambia', 'Hamilton',\n",
       "       'Hillsborough', 'Holmes', 'Lee', 'Leon', 'Marion', 'Martin',\n",
       "       'Miami-Dade', 'Nassau', 'Orange', 'Palm Beach', 'Pinellas', 'Polk',\n",
       "       'Santa Rosa', 'Sarasota', 'Seminole', 'Volusia', 'Wakulla'],\n",
       "      dtype=object)"
      ]
     },
     "execution_count": 6,
     "metadata": {},
     "output_type": "execute_result"
    }
   ],
   "source": [
    "#determine counties in the air quality data\n",
    "county_airq = airq_data['COUNTY'].unique()\n",
    "\n",
    "county_airq"
   ]
  },
  {
   "cell_type": "code",
   "execution_count": 7,
   "id": "af610345",
   "metadata": {},
   "outputs": [
    {
     "data": {
      "text/plain": [
       "array(['Charlotte', 'Citrus', 'Collier', 'Desoto', 'Glades', 'Hendry',\n",
       "       'Hernando', 'Highlands', 'Hillsborough', 'Lake', 'Lee', 'Manatee',\n",
       "       'Pasco', 'Pinellas', 'Polk', 'Sarasota', 'Sumter', 'Alachua',\n",
       "       'Baker', 'Bradford', 'Columbia', 'Dixie', 'Hamilton', 'Lafayette',\n",
       "       'Levy', 'Madison', 'Marion', 'Suwannee', 'Taylor', 'Bay',\n",
       "       'Calhoun', 'Escambia', 'Franklin', 'Gadsden', 'Gulf', 'Holmes',\n",
       "       'Jackson', 'Jefferson', 'Leon', 'Liberty', 'Okaloosa',\n",
       "       'Santa Rosa', 'Wakulla', 'Walton', 'Washington', 'Brevard', 'Clay',\n",
       "       'Duval', 'Flagler', 'Nassau', 'Orange', 'Putnam', 'Seminole',\n",
       "       'St. Johns', 'Volusia', 'Broward', 'Miami-Dade', 'Indian River',\n",
       "       'Martin', 'Monroe', 'Osceola', 'Palm Beach', 'St. Lucie',\n",
       "       \"Florida's Turnpike\"], dtype=object)"
      ]
     },
     "execution_count": 7,
     "metadata": {},
     "output_type": "execute_result"
    }
   ],
   "source": [
    "#determine counties in traffic data\n",
    "county_traffic = traffic_data['COUNTY'].unique()\n",
    "\n",
    "county_traffic"
   ]
  },
  {
   "cell_type": "code",
   "execution_count": 8,
   "id": "8d825e5e",
   "metadata": {},
   "outputs": [
    {
     "data": {
      "text/plain": [
       "array(['Alachua', 'Baker', 'Bay', 'Brevard', 'Broward', 'Citrus',\n",
       "       'Collier', 'Columbia', 'Duval', 'Escambia', 'Hamilton',\n",
       "       'Hillsborough', 'Lee', 'Leon', 'Marion', 'Martin', 'Miami-Dade',\n",
       "       'Nassau', 'Orange', 'Palm Beach', 'Pinellas', 'Polk', 'Sarasota',\n",
       "       'Seminole', 'Volusia'], dtype=object)"
      ]
     },
     "execution_count": 8,
     "metadata": {},
     "output_type": "execute_result"
    }
   ],
   "source": [
    "#determine counties in weather data\n",
    "county_weather = weather_data['COUNTY'].unique()\n",
    "\n",
    "county_weather"
   ]
  },
  {
   "cell_type": "code",
   "execution_count": 9,
   "id": "f5a921dd",
   "metadata": {},
   "outputs": [
    {
     "name": "stdout",
     "output_type": "stream",
     "text": [
      "['Volusia', 'Leon', 'Polk', 'Palm Beach', 'Nassau', 'Hillsborough', 'Sarasota', 'Brevard', 'Columbia', 'Marion', 'Martin', 'Alachua', 'Bay', 'Hamilton', 'Seminole', 'Duval', 'Broward', 'Orange', 'Escambia', 'Citrus', 'Pinellas', 'Collier', 'Lee', 'Miami-Dade', 'Baker']\n"
     ]
    }
   ],
   "source": [
    "#determine counties that are common for both datasets\n",
    "common_counties = list(set(county_airq).intersection(set(county_traffic)))\n",
    "common_counties = list(set(common_counties).intersection(set(county_weather)))\n",
    "\n",
    "print(common_counties)"
   ]
  },
  {
   "cell_type": "markdown",
   "id": "3ea59b5d",
   "metadata": {},
   "source": [
    "The variable `common_counties` represent counties in Florida that are common for both air quality and traffic data. We could now filter both the traffic and air quality data according to their common counties, represented by the `common_counties` variable."
   ]
  },
  {
   "cell_type": "code",
   "execution_count": 10,
   "id": "9d2fec35",
   "metadata": {},
   "outputs": [
    {
     "data": {
      "text/html": [
       "<div>\n",
       "<style scoped>\n",
       "    .dataframe tbody tr th:only-of-type {\n",
       "        vertical-align: middle;\n",
       "    }\n",
       "\n",
       "    .dataframe tbody tr th {\n",
       "        vertical-align: top;\n",
       "    }\n",
       "\n",
       "    .dataframe thead th {\n",
       "        text-align: right;\n",
       "    }\n",
       "</style>\n",
       "<table border=\"1\" class=\"dataframe\">\n",
       "  <thead>\n",
       "    <tr style=\"text-align: right;\">\n",
       "      <th></th>\n",
       "      <th>01/01</th>\n",
       "      <th>01/02</th>\n",
       "      <th>01/03</th>\n",
       "      <th>01/04</th>\n",
       "      <th>01/05</th>\n",
       "      <th>01/06</th>\n",
       "      <th>01/07</th>\n",
       "      <th>01/08</th>\n",
       "      <th>01/09</th>\n",
       "      <th>01/10</th>\n",
       "      <th>...</th>\n",
       "      <th>06/29</th>\n",
       "      <th>06/30</th>\n",
       "      <th>07/01</th>\n",
       "      <th>07/02</th>\n",
       "      <th>07/03</th>\n",
       "      <th>07/04</th>\n",
       "      <th>07/05</th>\n",
       "      <th>07/06</th>\n",
       "      <th>07/07</th>\n",
       "      <th>COUNTY</th>\n",
       "    </tr>\n",
       "  </thead>\n",
       "  <tbody>\n",
       "    <tr>\n",
       "      <th>17</th>\n",
       "      <td>114200</td>\n",
       "      <td>154629</td>\n",
       "      <td>166054</td>\n",
       "      <td>151168</td>\n",
       "      <td>146477</td>\n",
       "      <td>138321</td>\n",
       "      <td>128157</td>\n",
       "      <td>127949</td>\n",
       "      <td>134169</td>\n",
       "      <td>147862</td>\n",
       "      <td>...</td>\n",
       "      <td>125297</td>\n",
       "      <td>122412</td>\n",
       "      <td>131997</td>\n",
       "      <td>143193</td>\n",
       "      <td>137491</td>\n",
       "      <td>90080</td>\n",
       "      <td>118842</td>\n",
       "      <td>131855</td>\n",
       "      <td>120127</td>\n",
       "      <td>Alachua</td>\n",
       "    </tr>\n",
       "    <tr>\n",
       "      <th>18</th>\n",
       "      <td>2071</td>\n",
       "      <td>2796</td>\n",
       "      <td>3081</td>\n",
       "      <td>2526</td>\n",
       "      <td>2375</td>\n",
       "      <td>2565</td>\n",
       "      <td>2627</td>\n",
       "      <td>2745</td>\n",
       "      <td>2853</td>\n",
       "      <td>3272</td>\n",
       "      <td>...</td>\n",
       "      <td>2965</td>\n",
       "      <td>2929</td>\n",
       "      <td>3014</td>\n",
       "      <td>3288</td>\n",
       "      <td>3183</td>\n",
       "      <td>2641</td>\n",
       "      <td>2550</td>\n",
       "      <td>2857</td>\n",
       "      <td>2707</td>\n",
       "      <td>Baker</td>\n",
       "    </tr>\n",
       "    <tr>\n",
       "      <th>29</th>\n",
       "      <td>92354</td>\n",
       "      <td>139450</td>\n",
       "      <td>141158</td>\n",
       "      <td>111372</td>\n",
       "      <td>91151</td>\n",
       "      <td>139712</td>\n",
       "      <td>144079</td>\n",
       "      <td>144889</td>\n",
       "      <td>145925</td>\n",
       "      <td>154921</td>\n",
       "      <td>...</td>\n",
       "      <td>138276</td>\n",
       "      <td>154222</td>\n",
       "      <td>139730</td>\n",
       "      <td>166732</td>\n",
       "      <td>155771</td>\n",
       "      <td>124145</td>\n",
       "      <td>123179</td>\n",
       "      <td>133025</td>\n",
       "      <td>145192</td>\n",
       "      <td>Bay</td>\n",
       "    </tr>\n",
       "    <tr>\n",
       "      <th>45</th>\n",
       "      <td>261851</td>\n",
       "      <td>367668</td>\n",
       "      <td>401305</td>\n",
       "      <td>332429</td>\n",
       "      <td>299054</td>\n",
       "      <td>346140</td>\n",
       "      <td>321507</td>\n",
       "      <td>325505</td>\n",
       "      <td>332772</td>\n",
       "      <td>370856</td>\n",
       "      <td>...</td>\n",
       "      <td>287127</td>\n",
       "      <td>291592</td>\n",
       "      <td>295687</td>\n",
       "      <td>320577</td>\n",
       "      <td>305800</td>\n",
       "      <td>215883</td>\n",
       "      <td>242171</td>\n",
       "      <td>281311</td>\n",
       "      <td>275538</td>\n",
       "      <td>Brevard</td>\n",
       "    </tr>\n",
       "    <tr>\n",
       "      <th>55</th>\n",
       "      <td>654055</td>\n",
       "      <td>855843</td>\n",
       "      <td>900897</td>\n",
       "      <td>785596</td>\n",
       "      <td>702080</td>\n",
       "      <td>873355</td>\n",
       "      <td>902844</td>\n",
       "      <td>893983</td>\n",
       "      <td>908921</td>\n",
       "      <td>925687</td>\n",
       "      <td>...</td>\n",
       "      <td>715555</td>\n",
       "      <td>734498</td>\n",
       "      <td>736393</td>\n",
       "      <td>764052</td>\n",
       "      <td>712455</td>\n",
       "      <td>522985</td>\n",
       "      <td>494879</td>\n",
       "      <td>697840</td>\n",
       "      <td>709431</td>\n",
       "      <td>Broward</td>\n",
       "    </tr>\n",
       "  </tbody>\n",
       "</table>\n",
       "<p>5 rows × 185 columns</p>\n",
       "</div>"
      ],
      "text/plain": [
       "     01/01   01/02   01/03   01/04   01/05   01/06   01/07   01/08   01/09  \\\n",
       "17  114200  154629  166054  151168  146477  138321  128157  127949  134169   \n",
       "18    2071    2796    3081    2526    2375    2565    2627    2745    2853   \n",
       "29   92354  139450  141158  111372   91151  139712  144079  144889  145925   \n",
       "45  261851  367668  401305  332429  299054  346140  321507  325505  332772   \n",
       "55  654055  855843  900897  785596  702080  873355  902844  893983  908921   \n",
       "\n",
       "     01/10  ...   06/29   06/30   07/01   07/02   07/03   07/04   07/05  \\\n",
       "17  147862  ...  125297  122412  131997  143193  137491   90080  118842   \n",
       "18    3272  ...    2965    2929    3014    3288    3183    2641    2550   \n",
       "29  154921  ...  138276  154222  139730  166732  155771  124145  123179   \n",
       "45  370856  ...  287127  291592  295687  320577  305800  215883  242171   \n",
       "55  925687  ...  715555  734498  736393  764052  712455  522985  494879   \n",
       "\n",
       "     07/06   07/07   COUNTY  \n",
       "17  131855  120127  Alachua  \n",
       "18    2857    2707    Baker  \n",
       "29  133025  145192      Bay  \n",
       "45  281311  275538  Brevard  \n",
       "55  697840  709431  Broward  \n",
       "\n",
       "[5 rows x 185 columns]"
      ]
     },
     "execution_count": 10,
     "metadata": {},
     "output_type": "execute_result"
    }
   ],
   "source": [
    "#filter the traffic data by common counties\n",
    "traffic_data = traffic_data[traffic_data['COUNTY'].isin(common_counties)]\n",
    "\n",
    "traffic_data.sort_values('COUNTY', inplace = True)\n",
    "traffic_data.head()"
   ]
  },
  {
   "cell_type": "code",
   "execution_count": 11,
   "id": "04b44dd6",
   "metadata": {},
   "outputs": [
    {
     "data": {
      "text/html": [
       "<div>\n",
       "<style scoped>\n",
       "    .dataframe tbody tr th:only-of-type {\n",
       "        vertical-align: middle;\n",
       "    }\n",
       "\n",
       "    .dataframe tbody tr th {\n",
       "        vertical-align: top;\n",
       "    }\n",
       "\n",
       "    .dataframe thead th {\n",
       "        text-align: right;\n",
       "    }\n",
       "</style>\n",
       "<table border=\"1\" class=\"dataframe\">\n",
       "  <thead>\n",
       "    <tr style=\"text-align: right;\">\n",
       "      <th></th>\n",
       "      <th>COUNTY</th>\n",
       "      <th>DATE</th>\n",
       "      <th>AQI</th>\n",
       "      <th>PARAMETER</th>\n",
       "    </tr>\n",
       "  </thead>\n",
       "  <tbody>\n",
       "    <tr>\n",
       "      <th>0</th>\n",
       "      <td>Alachua</td>\n",
       "      <td>01/03</td>\n",
       "      <td>35</td>\n",
       "      <td>PM2.5</td>\n",
       "    </tr>\n",
       "    <tr>\n",
       "      <th>1</th>\n",
       "      <td>Alachua</td>\n",
       "      <td>01/08</td>\n",
       "      <td>52</td>\n",
       "      <td>PM2.5</td>\n",
       "    </tr>\n",
       "    <tr>\n",
       "      <th>2</th>\n",
       "      <td>Alachua</td>\n",
       "      <td>01/09</td>\n",
       "      <td>48</td>\n",
       "      <td>PM2.5</td>\n",
       "    </tr>\n",
       "    <tr>\n",
       "      <th>3</th>\n",
       "      <td>Alachua</td>\n",
       "      <td>01/11</td>\n",
       "      <td>38</td>\n",
       "      <td>PM2.5</td>\n",
       "    </tr>\n",
       "    <tr>\n",
       "      <th>4</th>\n",
       "      <td>Alachua</td>\n",
       "      <td>01/12</td>\n",
       "      <td>37</td>\n",
       "      <td>PM2.5</td>\n",
       "    </tr>\n",
       "  </tbody>\n",
       "</table>\n",
       "</div>"
      ],
      "text/plain": [
       "    COUNTY   DATE  AQI PARAMETER\n",
       "0  Alachua  01/03   35     PM2.5\n",
       "1  Alachua  01/08   52     PM2.5\n",
       "2  Alachua  01/09   48     PM2.5\n",
       "3  Alachua  01/11   38     PM2.5\n",
       "4  Alachua  01/12   37     PM2.5"
      ]
     },
     "execution_count": 11,
     "metadata": {},
     "output_type": "execute_result"
    }
   ],
   "source": [
    "#filter the air quality data by common counties\n",
    "airq_data = airq_data[airq_data['COUNTY'].isin(common_counties)]\n",
    "\n",
    "airq_data.head()"
   ]
  },
  {
   "cell_type": "code",
   "execution_count": 12,
   "id": "118ec4ec",
   "metadata": {},
   "outputs": [
    {
     "data": {
      "text/html": [
       "<div>\n",
       "<style scoped>\n",
       "    .dataframe tbody tr th:only-of-type {\n",
       "        vertical-align: middle;\n",
       "    }\n",
       "\n",
       "    .dataframe tbody tr th {\n",
       "        vertical-align: top;\n",
       "    }\n",
       "\n",
       "    .dataframe thead th {\n",
       "        text-align: right;\n",
       "    }\n",
       "</style>\n",
       "<table border=\"1\" class=\"dataframe\">\n",
       "  <thead>\n",
       "    <tr style=\"text-align: right;\">\n",
       "      <th></th>\n",
       "      <th>COUNTY</th>\n",
       "      <th>DATE</th>\n",
       "      <th>PRECIPITATION</th>\n",
       "      <th>MEAN TEMP</th>\n",
       "    </tr>\n",
       "  </thead>\n",
       "  <tbody>\n",
       "    <tr>\n",
       "      <th>0</th>\n",
       "      <td>Alachua</td>\n",
       "      <td>01/01</td>\n",
       "      <td>0.00000</td>\n",
       "      <td>52.5</td>\n",
       "    </tr>\n",
       "    <tr>\n",
       "      <th>1</th>\n",
       "      <td>Alachua</td>\n",
       "      <td>01/02</td>\n",
       "      <td>0.00000</td>\n",
       "      <td>61.5</td>\n",
       "    </tr>\n",
       "    <tr>\n",
       "      <th>2</th>\n",
       "      <td>Alachua</td>\n",
       "      <td>01/03</td>\n",
       "      <td>0.00001</td>\n",
       "      <td>73.0</td>\n",
       "    </tr>\n",
       "    <tr>\n",
       "      <th>3</th>\n",
       "      <td>Alachua</td>\n",
       "      <td>01/04</td>\n",
       "      <td>0.68000</td>\n",
       "      <td>63.0</td>\n",
       "    </tr>\n",
       "    <tr>\n",
       "      <th>4</th>\n",
       "      <td>Alachua</td>\n",
       "      <td>01/05</td>\n",
       "      <td>0.00000</td>\n",
       "      <td>50.0</td>\n",
       "    </tr>\n",
       "  </tbody>\n",
       "</table>\n",
       "</div>"
      ],
      "text/plain": [
       "    COUNTY   DATE  PRECIPITATION  MEAN TEMP\n",
       "0  Alachua  01/01        0.00000       52.5\n",
       "1  Alachua  01/02        0.00000       61.5\n",
       "2  Alachua  01/03        0.00001       73.0\n",
       "3  Alachua  01/04        0.68000       63.0\n",
       "4  Alachua  01/05        0.00000       50.0"
      ]
     },
     "execution_count": 12,
     "metadata": {},
     "output_type": "execute_result"
    }
   ],
   "source": [
    "#filter the weather data by common counties\n",
    "weather_data = weather_data[weather_data['COUNTY'].isin(common_counties)]\n",
    "\n",
    "weather_data.head()"
   ]
  },
  {
   "cell_type": "code",
   "execution_count": 13,
   "id": "95cbb09c",
   "metadata": {},
   "outputs": [
    {
     "name": "stdout",
     "output_type": "stream",
     "text": [
      "The shape of traffic data after filtering is (25, 185)\n",
      "The shape of weather data after filtering is (9150, 4)\n",
      "The shape of air quality data after filtering is (1949, 4)\n"
     ]
    }
   ],
   "source": [
    "print(\"The shape of traffic data after filtering is {}\".format(traffic_data.shape))\n",
    "print(\"The shape of weather data after filtering is {}\".format(weather_data.shape))\n",
    "print(\"The shape of air quality data after filtering is {}\".format(airq_data.shape))"
   ]
  },
  {
   "cell_type": "markdown",
   "id": "dba54cb0",
   "metadata": {},
   "source": [
    "# PART 2: Exploratory Data Analysis\n",
    "\n",
    "Both air quality and traffic data from selected counties in Florida state have been preprocessed/cleaned. We can then visualize the trends both in traffic and air quality data in selected counties in Florida."
   ]
  },
  {
   "cell_type": "markdown",
   "id": "38b4bffa",
   "metadata": {},
   "source": [
    "## PART 2.1: Filtering DataFrame by County\n",
    "\n",
    "We can then filter our dataframes according to a specific county. Let us define a function `filter_data` that performs the following tasks:\n",
    "- Filter the air quality dataset to a specified county\n",
    "- Filter the traffic dataset to a specified county\n",
    "- Filter the weather dataset to a specified county\n",
    "- Filter recorded dates, since there are particular dates that are not present in the traffic data, weather data, or air quality data\n",
    "- Combine the three datasets into a single dataframe\n",
    "\n",
    "The function takes in the traffic dataset (given by `traffic`), the air quality dataset (given by `air_quality`), the weather dataset (given by`weather` ) and the specific county (given by `county`). This function will output a **new `pandas` DataFrame** such that each row represents the traffic volume and air quality index for a particular county at a particular date. An example, template dataframe is given below:\n",
    "\n",
    "|Date|AQI|traffic_volume|precipitation|temperature|\n",
    "|----|---|--------------|-------------|-----------|\n",
    "|01/01|XXX|XXXXX|XXXXX|XXXXX|\n",
    "|01/02|YYY|YYYYY|YYYYY|YYYYY|\n",
    "|01/03|ZZZ|ZZZZZ|ZZZZZ|ZZZZZ|\n",
    "|...|...|...|...|...|"
   ]
  },
  {
   "cell_type": "code",
   "execution_count": 14,
   "id": "cd061774",
   "metadata": {},
   "outputs": [],
   "source": [
    "def filter_data(traffic, air_quality, weather, county):\n",
    "    #create temporary datasets such that air quality and traffic data are filtered by specific county\n",
    "    temp1 = air_quality[air_quality['COUNTY'] == county]\n",
    "    temp2 = traffic[traffic['COUNTY'] == county]\n",
    "    temp3 = weather[weather['COUNTY'] == county]\n",
    "    \n",
    "    #filter recorded dates for both air quality and traffic data\n",
    "    date1 = list(temp2.columns[1:])\n",
    "    date2 = list(temp1['DATE'])\n",
    "    date3 = list(temp1['DATE'])\n",
    "    \n",
    "    #determine the common dates for both datasets using set intersection\n",
    "    common_dates = list(set(date1).intersection(set(date2)))\n",
    "    common_dates = list(set(common_dates).intersection(set(date3)))\n",
    "    common_dates.sort() #sort the common dates\n",
    "    \n",
    "    #further filter the temporary datasets such that the dates are in common dates\n",
    "    temp1 = temp1[temp1['DATE'].isin(common_dates)]\n",
    "    temp2 = temp2[common_dates]\n",
    "    temp3 = temp3[temp3['DATE'].isin(common_dates)]\n",
    "    \n",
    "    #define new dataframe to_return that is copied from AQI data\n",
    "    to_return = temp1[['DATE', 'AQI', 'COUNTY']].copy(deep = True)\n",
    "    to_return = to_return.merge(temp3[['DATE','PRECIPITATION','MEAN TEMP']], how='inner', on='DATE')\n",
    "    \n",
    "    #record the traffic volume values per common date, append it to tem_lis\n",
    "    tem_lis = []\n",
    "    for i in common_dates:\n",
    "        tem_lis.append(temp2[i].values[0])\n",
    "    \n",
    "    to_return['TRAFFIC'] = tem_lis #add tem_lis as a new column in to_return\n",
    "    to_return = to_return.reset_index(drop = True) #reset index\n",
    "    \n",
    "    return to_return"
   ]
  },
  {
   "cell_type": "markdown",
   "id": "54bb2095",
   "metadata": {},
   "source": [
    "We can test our newly-created function to a specific county. **For the cells below, you can change the value of `county` variable and run the cell to see the results for a specific county.** You may check for the list of common counties in both datasets by looking at the `common_counties` variable."
   ]
  },
  {
   "cell_type": "code",
   "execution_count": 15,
   "id": "3aa17749",
   "metadata": {},
   "outputs": [
    {
     "name": "stdout",
     "output_type": "stream",
     "text": [
      "['Volusia', 'Leon', 'Polk', 'Palm Beach', 'Nassau', 'Hillsborough', 'Sarasota', 'Brevard', 'Columbia', 'Marion', 'Martin', 'Alachua', 'Bay', 'Hamilton', 'Seminole', 'Duval', 'Broward', 'Orange', 'Escambia', 'Citrus', 'Pinellas', 'Collier', 'Lee', 'Miami-Dade', 'Baker']\n"
     ]
    }
   ],
   "source": [
    "print(common_counties)"
   ]
  },
  {
   "cell_type": "code",
   "execution_count": 16,
   "id": "51320080",
   "metadata": {},
   "outputs": [
    {
     "data": {
      "text/html": [
       "<div>\n",
       "<style scoped>\n",
       "    .dataframe tbody tr th:only-of-type {\n",
       "        vertical-align: middle;\n",
       "    }\n",
       "\n",
       "    .dataframe tbody tr th {\n",
       "        vertical-align: top;\n",
       "    }\n",
       "\n",
       "    .dataframe thead th {\n",
       "        text-align: right;\n",
       "    }\n",
       "</style>\n",
       "<table border=\"1\" class=\"dataframe\">\n",
       "  <thead>\n",
       "    <tr style=\"text-align: right;\">\n",
       "      <th></th>\n",
       "      <th>DATE</th>\n",
       "      <th>AQI</th>\n",
       "      <th>COUNTY</th>\n",
       "      <th>PRECIPITATION</th>\n",
       "      <th>MEAN TEMP</th>\n",
       "      <th>TRAFFIC</th>\n",
       "    </tr>\n",
       "  </thead>\n",
       "  <tbody>\n",
       "    <tr>\n",
       "      <th>0</th>\n",
       "      <td>01/03</td>\n",
       "      <td>29</td>\n",
       "      <td>Collier</td>\n",
       "      <td>0.0</td>\n",
       "      <td>67.5</td>\n",
       "      <td>338452</td>\n",
       "    </tr>\n",
       "    <tr>\n",
       "      <th>1</th>\n",
       "      <td>01/10</td>\n",
       "      <td>37</td>\n",
       "      <td>Collier</td>\n",
       "      <td>0.0</td>\n",
       "      <td>66.0</td>\n",
       "      <td>335605</td>\n",
       "    </tr>\n",
       "    <tr>\n",
       "      <th>2</th>\n",
       "      <td>01/11</td>\n",
       "      <td>45</td>\n",
       "      <td>Collier</td>\n",
       "      <td>0.0</td>\n",
       "      <td>71.5</td>\n",
       "      <td>278819</td>\n",
       "    </tr>\n",
       "    <tr>\n",
       "      <th>3</th>\n",
       "      <td>01/12</td>\n",
       "      <td>37</td>\n",
       "      <td>Collier</td>\n",
       "      <td>0.0</td>\n",
       "      <td>77.0</td>\n",
       "      <td>253325</td>\n",
       "    </tr>\n",
       "    <tr>\n",
       "      <th>4</th>\n",
       "      <td>01/13</td>\n",
       "      <td>34</td>\n",
       "      <td>Collier</td>\n",
       "      <td>0.0</td>\n",
       "      <td>76.0</td>\n",
       "      <td>310912</td>\n",
       "    </tr>\n",
       "    <tr>\n",
       "      <th>...</th>\n",
       "      <td>...</td>\n",
       "      <td>...</td>\n",
       "      <td>...</td>\n",
       "      <td>...</td>\n",
       "      <td>...</td>\n",
       "      <td>...</td>\n",
       "    </tr>\n",
       "    <tr>\n",
       "      <th>74</th>\n",
       "      <td>06/29</td>\n",
       "      <td>58</td>\n",
       "      <td>Collier</td>\n",
       "      <td>0.1</td>\n",
       "      <td>77.5</td>\n",
       "      <td>216490</td>\n",
       "    </tr>\n",
       "    <tr>\n",
       "      <th>75</th>\n",
       "      <td>06/30</td>\n",
       "      <td>62</td>\n",
       "      <td>Collier</td>\n",
       "      <td>0.0</td>\n",
       "      <td>78.5</td>\n",
       "      <td>214114</td>\n",
       "    </tr>\n",
       "    <tr>\n",
       "      <th>76</th>\n",
       "      <td>07/01</td>\n",
       "      <td>64</td>\n",
       "      <td>Collier</td>\n",
       "      <td>0.0</td>\n",
       "      <td>83.0</td>\n",
       "      <td>220510</td>\n",
       "    </tr>\n",
       "    <tr>\n",
       "      <th>77</th>\n",
       "      <td>07/02</td>\n",
       "      <td>62</td>\n",
       "      <td>Collier</td>\n",
       "      <td>0.0</td>\n",
       "      <td>86.5</td>\n",
       "      <td>234920</td>\n",
       "    </tr>\n",
       "    <tr>\n",
       "      <th>78</th>\n",
       "      <td>07/03</td>\n",
       "      <td>58</td>\n",
       "      <td>Collier</td>\n",
       "      <td>0.0</td>\n",
       "      <td>82.0</td>\n",
       "      <td>218501</td>\n",
       "    </tr>\n",
       "  </tbody>\n",
       "</table>\n",
       "<p>79 rows × 6 columns</p>\n",
       "</div>"
      ],
      "text/plain": [
       "     DATE  AQI   COUNTY  PRECIPITATION  MEAN TEMP  TRAFFIC\n",
       "0   01/03   29  Collier            0.0       67.5   338452\n",
       "1   01/10   37  Collier            0.0       66.0   335605\n",
       "2   01/11   45  Collier            0.0       71.5   278819\n",
       "3   01/12   37  Collier            0.0       77.0   253325\n",
       "4   01/13   34  Collier            0.0       76.0   310912\n",
       "..    ...  ...      ...            ...        ...      ...\n",
       "74  06/29   58  Collier            0.1       77.5   216490\n",
       "75  06/30   62  Collier            0.0       78.5   214114\n",
       "76  07/01   64  Collier            0.0       83.0   220510\n",
       "77  07/02   62  Collier            0.0       86.5   234920\n",
       "78  07/03   58  Collier            0.0       82.0   218501\n",
       "\n",
       "[79 rows x 6 columns]"
      ]
     },
     "execution_count": 16,
     "metadata": {},
     "output_type": "execute_result"
    }
   ],
   "source": [
    "#You may change the county variable according to a value in the common_counties variable\n",
    "county = \"Collier\"\n",
    "\n",
    "test_var = filter_data(traffic_data, airq_data, weather_data, county)\n",
    "test_var"
   ]
  },
  {
   "cell_type": "markdown",
   "id": "dfe4b079",
   "metadata": {},
   "source": [
    "## PART 2.2: Exploring the Correlation Between Traffic and AQI\n",
    "\n",
    "The `.corr()` method of `pandas` returns a dataframe that measures the correlation between two or more different variables. We want to know specifically how well-correlated the traffic data and AQI are for all common counties. Let us define a function `corr_measure` that returns the correlation value between the traffic data and AQI using Pearson's correlation coefficient.\n",
    "\n",
    "The values of the correlation coefficient determine the strength of association between the two variables. The table below shows the scale of correlation based on their Pearson's correlation coefficient.\n",
    "\n",
    "|Scale of correlation coefficient| Value |\n",
    "|--------------------------------|-------|\n",
    "| $0<r \\leq 0.19$                |Very Low|\n",
    "|$0.2 \\leq r \\leq 0.39$          |Low|\n",
    "|$0.4 \\leq r \\leq 0.59$          |Moderate|\n",
    "|$0.6 \\leq r \\leq 0.79$          |High|\n",
    "|$0.8 \\leq r \\leq 1.0$           |Very High|\n",
    "\n",
    "The function `corr_measure` takes in the following variables:\n",
    "- `xy`, corresponding to the list of features and target columns (`['TRAFFIC', 'PRECIPITATION', 'MEAN TEMP', 'AQI']`)\n",
    "- `src`, the pandas dataframe source\n",
    "\n",
    "This function will return a tuple corresponding to the correlation coefficients of the features with respect to the target variable. Specifically, the function will then return a 3-tuple corresponding to: (correlation of traffic and AQI, correlation of precipitation and AQI, correlation of temperature and AQI)"
   ]
  },
  {
   "cell_type": "code",
   "execution_count": 17,
   "id": "73e9d0aa",
   "metadata": {},
   "outputs": [],
   "source": [
    "features = ['TRAFFIC', 'PRECIPITATION', 'MEAN TEMP']\n",
    "target = 'AQI'\n",
    "\n",
    "xy = features.copy()\n",
    "xy.append(target)\n",
    "\n",
    "def corr_measure(xy, src):\n",
    "    temp = src[xy].corr() #construct correlation dataframe\n",
    "    traffic_corr = temp.iloc[0][3]\n",
    "    precipitation_corr = temp.iloc[1][3]\n",
    "    temperature_corr = temp.iloc[2][3]\n",
    "\n",
    "    #return a tuple of correlation coefficient & description of correlation\n",
    "    return traffic_corr, precipitation_corr, temperature_corr"
   ]
  },
  {
   "cell_type": "markdown",
   "id": "f8594eaf",
   "metadata": {},
   "source": [
    "We then iterate the function over all common counties to determine the strength of the correlation of traffic data and AQI, and sort the results according to the absolute value of their correlation value. Since there are three correlation coefficients to be returned, we need to *locally sort* the correlation coefficients for each feature (i.e. sort the correlation coefficient and get ranking of the counties in terms of traffic, then in precipitation, etc.). \n",
    "\n",
    "After determining the local rankings of the correlation coefficients for each feature, we can determine the global ranking of each county for all three features by using the formula:\n",
    "\n",
    "$\\text{global ranking} = \\frac{\\text{traffic correlation ranking} + \\text{precipitation correlation ranking} + \\text{temperature correlation ranking}}{3}$"
   ]
  },
  {
   "cell_type": "code",
   "execution_count": 18,
   "id": "18fe163d",
   "metadata": {},
   "outputs": [],
   "source": [
    "results = []\n",
    "\n",
    "# Store the rankings of each county's correlation coefficients\n",
    "ranking = {\n",
    "    'COUNTY': common_counties,\n",
    "    'TRAFFIC': [],\n",
    "    'PRECIPITATION': [],\n",
    "    'TEMPERATURE': []\n",
    "    }\n",
    "\n",
    "for i in common_counties:\n",
    "    test_df = filter_data(traffic_data, airq_data, weather_data, i)\n",
    "    traffic, precipitation, temperature = corr_measure(xy, test_df)\n",
    "    results.append((i, traffic, precipitation, temperature))"
   ]
  },
  {
   "cell_type": "code",
   "execution_count": 19,
   "id": "42afe44b",
   "metadata": {
    "scrolled": false
   },
   "outputs": [
    {
     "data": {
      "text/html": [
       "<div>\n",
       "<style scoped>\n",
       "    .dataframe tbody tr th:only-of-type {\n",
       "        vertical-align: middle;\n",
       "    }\n",
       "\n",
       "    .dataframe tbody tr th {\n",
       "        vertical-align: top;\n",
       "    }\n",
       "\n",
       "    .dataframe thead th {\n",
       "        text-align: right;\n",
       "    }\n",
       "</style>\n",
       "<table border=\"1\" class=\"dataframe\">\n",
       "  <thead>\n",
       "    <tr style=\"text-align: right;\">\n",
       "      <th></th>\n",
       "      <th>COUNTY</th>\n",
       "      <th>TRAFFIC</th>\n",
       "      <th>PRECIPITATION</th>\n",
       "      <th>TEMPERATURE</th>\n",
       "      <th>AVG RANK</th>\n",
       "    </tr>\n",
       "  </thead>\n",
       "  <tbody>\n",
       "    <tr>\n",
       "      <th>0</th>\n",
       "      <td>Leon</td>\n",
       "      <td>1</td>\n",
       "      <td>3</td>\n",
       "      <td>9</td>\n",
       "      <td>4.333333</td>\n",
       "    </tr>\n",
       "    <tr>\n",
       "      <th>1</th>\n",
       "      <td>Collier</td>\n",
       "      <td>5</td>\n",
       "      <td>2</td>\n",
       "      <td>6</td>\n",
       "      <td>4.333333</td>\n",
       "    </tr>\n",
       "    <tr>\n",
       "      <th>2</th>\n",
       "      <td>Brevard</td>\n",
       "      <td>4</td>\n",
       "      <td>9</td>\n",
       "      <td>1</td>\n",
       "      <td>4.666667</td>\n",
       "    </tr>\n",
       "    <tr>\n",
       "      <th>3</th>\n",
       "      <td>Lee</td>\n",
       "      <td>3</td>\n",
       "      <td>16</td>\n",
       "      <td>3</td>\n",
       "      <td>7.333333</td>\n",
       "    </tr>\n",
       "    <tr>\n",
       "      <th>4</th>\n",
       "      <td>Polk</td>\n",
       "      <td>6</td>\n",
       "      <td>1</td>\n",
       "      <td>21</td>\n",
       "      <td>9.333333</td>\n",
       "    </tr>\n",
       "  </tbody>\n",
       "</table>\n",
       "</div>"
      ],
      "text/plain": [
       "    COUNTY  TRAFFIC  PRECIPITATION  TEMPERATURE  AVG RANK\n",
       "0     Leon        1              3            9  4.333333\n",
       "1  Collier        5              2            6  4.333333\n",
       "2  Brevard        4              9            1  4.666667\n",
       "3      Lee        3             16            3  7.333333\n",
       "4     Polk        6              1           21  9.333333"
      ]
     },
     "execution_count": 19,
     "metadata": {},
     "output_type": "execute_result"
    }
   ],
   "source": [
    "results.sort(key = lambda x: (abs(x[1])), reverse = True) #sort the results according to traffic\n",
    "\n",
    "for i in ranking['COUNTY']:\n",
    "    for j in range(len(results)):\n",
    "        if results[j][0] == i:\n",
    "            rank = j + 1\n",
    "            ranking['TRAFFIC'].append(rank)\n",
    "\n",
    "results.sort(key = lambda x: (abs(x[2])), reverse = True) #sort the results according to precipitation\n",
    "\n",
    "for i in ranking['COUNTY']:\n",
    "    for j in range(len(results)):\n",
    "        if results[j][0] == i:\n",
    "            rank = j + 1\n",
    "            ranking['PRECIPITATION'].append(rank)\n",
    "\n",
    "results.sort(key = lambda x: (abs(x[3])), reverse = True) #sort the results according to temperature\n",
    "\n",
    "for i in ranking['COUNTY']:\n",
    "    for j in range(len(results)):\n",
    "        if results[j][0] == i:\n",
    "            rank = j + 1\n",
    "            ranking['TEMPERATURE'].append(rank)\n",
    "\n",
    "ranking_df = pd.DataFrame(data=ranking)# top5 = []\n",
    "ranking_df['AVG RANK'] = sum([ranking_df.TRAFFIC, ranking_df.PRECIPITATION, ranking_df.TEMPERATURE])/3\n",
    "ranking_df = ranking_df.sort_values('AVG RANK')\n",
    "ranking_df = ranking_df.reset_index(drop=True)\n",
    "ranking_df.head()"
   ]
  },
  {
   "cell_type": "markdown",
   "id": "92c77158",
   "metadata": {},
   "source": [
    "The dataframe above shows the **Top 5 counties** in terms of the computed average rank based on their local rankings for the correlation coefficients per feature. From the DataFrame, the top 5 counties that can be visualized and modelled are:\n",
    "- Leon\n",
    "- Collier\n",
    "- Brevard\n",
    "- Lee\n",
    "- Polk\n",
    "\n",
    "The function `describe_correlation_measurement` describes the strength and the direction of the relationship between the feature variable and the target variable according to the table specified at the start of this section. "
   ]
  },
  {
   "cell_type": "code",
   "execution_count": 20,
   "id": "7fdc11c4",
   "metadata": {},
   "outputs": [],
   "source": [
    "def describe_correlation_measurement(correlation_value):\n",
    "    str = \"\"\n",
    "    \n",
    "    # determine the strength of correlation based on the correlation coefficient\n",
    "    if 0.8 <= abs(correlation_value) <= 1.0:\n",
    "        str = \"very high\"\n",
    "    elif 0.6 <= abs(correlation_value) < 0.8:\n",
    "        str = \"high\"\n",
    "    elif 0.4 <= abs(correlation_value) < 0.6:\n",
    "        str = \"moderate\"\n",
    "    elif 0.2 <= abs(correlation_value) < 0.4:\n",
    "        str = \"low\"\n",
    "    elif 0 <= abs(correlation_value) < 0.2:\n",
    "        str = \"very low\"\n",
    "    \n",
    "    # determine direction of correlation based on the correlation coefficient\n",
    "    if correlation_value > 0:\n",
    "        str += \" positive relationship\"\n",
    "    elif correlation_value < 0:\n",
    "        str += \" negative relationship\"\n",
    "    \n",
    "    return str"
   ]
  },
  {
   "cell_type": "code",
   "execution_count": 21,
   "id": "4f56f677",
   "metadata": {},
   "outputs": [
    {
     "name": "stdout",
     "output_type": "stream",
     "text": [
      "Leon\n",
      "The correlation between traffic and AQI is -0.43795223059571814 which denotes moderate negative relationship\n",
      "The correlation between precipitation and AQI is -0.27371818610860693 which denotes low negative relationship\n",
      "The correlation between temperature and AQI is 0.15091121744122352 which denotes very low positive relationship\n",
      "\n",
      "Collier\n",
      "The correlation between traffic and AQI is -0.29788094632917805 which denotes low negative relationship\n",
      "The correlation between precipitation and AQI is -0.3301108060789565 which denotes low negative relationship\n",
      "The correlation between temperature and AQI is 0.19166153002777594 which denotes very low positive relationship\n",
      "\n",
      "Brevard\n",
      "The correlation between traffic and AQI is -0.3759101195122419 which denotes low negative relationship\n",
      "The correlation between precipitation and AQI is -0.18790646054411184 which denotes very low negative relationship\n",
      "The correlation between temperature and AQI is -0.42841104076485365 which denotes moderate negative relationship\n",
      "\n",
      "Lee\n",
      "The correlation between traffic and AQI is -0.40905459295589935 which denotes moderate negative relationship\n",
      "The correlation between precipitation and AQI is -0.13626253812095426 which denotes very low negative relationship\n",
      "The correlation between temperature and AQI is 0.24685412842537166 which denotes low positive relationship\n",
      "\n",
      "Polk\n",
      "The correlation between traffic and AQI is -0.2900793543398598 which denotes low negative relationship\n",
      "The correlation between precipitation and AQI is -0.36553802955556164 which denotes low negative relationship\n",
      "The correlation between temperature and AQI is -0.008194526886580417 which denotes very low negative relationship\n",
      "\n"
     ]
    }
   ],
   "source": [
    "for i in range(5):\n",
    "    temp_corr = corr_measure(xy, filter_data(traffic_data, airq_data, weather_data, ranking_df['COUNTY'][i]))\n",
    "    print(ranking_df['COUNTY'][i])\n",
    "    print(\"The correlation between traffic and AQI is {} which denotes \".format(temp_corr[0]) + describe_correlation_measurement(temp_corr[0]))\n",
    "    print(\"The correlation between precipitation and AQI is {} which denotes \".format(temp_corr[1]) + describe_correlation_measurement(temp_corr[1]))\n",
    "    print(\"The correlation between temperature and AQI is {} which denotes \".format(temp_corr[2]) + describe_correlation_measurement(temp_corr[2]))\n",
    "    print()"
   ]
  },
  {
   "cell_type": "markdown",
   "id": "47db269c",
   "metadata": {},
   "source": [
    "For all features, its correlation with AQI posit either moderate, low, or very low relationships.\n",
    "- The Top 1 county in terms of a global average ranking has a moderate negative relationship between traffic and AQI, a low negative relationship between precipitation and AQI, and a very low positive relationship between temperature and AQI.\n",
    "- Surprisingly, the relationship between traffic and AQI for the Top 5 counties are **all negative**, which implies that AQI decreases whenever the car volume increases. This deviates from the assumption that AQI and traffic volume will have a positive correlation (i.e. AQI increases per increase in traffic volume).\n",
    "- Precipitation and AQI tend to have very low or low negative relationship\n",
    "- Temperature and AQI have either positive and negative relationships among the counties, but these are all either very low or low."
   ]
  },
  {
   "cell_type": "markdown",
   "id": "581d68f8",
   "metadata": {},
   "source": [
    "## PART 2.3: Scatterplots of Top 5 Counties in Terms of Correlation Coefficient\n",
    "\n",
    "Let us define a function `pairplot` that generates a scatterplot for the traffic and AQI data of a county. The scatterplot was generated using `seaborn`."
   ]
  },
  {
   "cell_type": "code",
   "execution_count": 22,
   "id": "7e3c9162",
   "metadata": {},
   "outputs": [],
   "source": [
    "def pairplot(x, y, src, cnty):\n",
    "    plot = sns.pairplot(src, x_vars=x, y_vars=y)\n",
    "    plot.fig.suptitle(cnty, y=1.08)"
   ]
  },
  {
   "cell_type": "markdown",
   "id": "82c5e097",
   "metadata": {},
   "source": [
    "The function was then applied to the Top 5 counties identified in the previous part: Leon, Collier, Brevard, Lee, and Polk. The pairplot will then show the scatterplot between traffic and AQI, precipitation and AQI, and mean temperature and AQI."
   ]
  },
  {
   "cell_type": "code",
   "execution_count": 23,
   "id": "aa6cb8bf",
   "metadata": {
    "scrolled": true
   },
   "outputs": [
    {
     "data": {
      "image/png": "[encoded data removed]",
      "text/plain": [
       "<Figure size 540x180 with 3 Axes>"
      ]
     },
     "metadata": {
      "needs_background": "light"
     },
     "output_type": "display_data"
    }
   ],
   "source": [
    "county = \"Leon\"\n",
    "\n",
    "sp_df = filter_data(traffic_data, airq_data, weather_data, county)\n",
    "pairplot(features, target, sp_df, county)"
   ]
  },
  {
   "cell_type": "markdown",
   "id": "c723b177",
   "metadata": {},
   "source": [
    "Based on the pair scatterplots in Leon,\n",
    "- The traffic and AQI data tend to form a more cohesive linear relationship with one another, but the presence of outliers (located at the top of the graph) may have affected the strength of their relationship\n",
    "- The precipitation and AQI data points tend to be 'concentrated' on the zero values, and AQI appears to be low when precipitation is high.\n",
    "- The mean temperature and AQI data points tend to be 'concentrated' at the lower side of the graph. There are outliers that show that AQI is high when temperature is high, but most of the data points show that mean temperature does not have a significant relationship with AQI."
   ]
  },
  {
   "cell_type": "code",
   "execution_count": 24,
   "id": "1724c474",
   "metadata": {
    "scrolled": true
   },
   "outputs": [
    {
     "data": {
      "image/png": "[encoded data removed]",
      "text/plain": [
       "<Figure size 540x180 with 3 Axes>"
      ]
     },
     "metadata": {
      "needs_background": "light"
     },
     "output_type": "display_data"
    }
   ],
   "source": [
    "county = \"Collier\"\n",
    "\n",
    "sp_df = filter_data(traffic_data, airq_data, weather_data, county)\n",
    "pairplot(features, target, sp_df, county)"
   ]
  },
  {
   "cell_type": "markdown",
   "id": "7f58a197",
   "metadata": {},
   "source": [
    "Based on the pair scatterplots in Collier,\n",
    "- The traffic and AQI data points are spread out, indicating a low relationship between traffic and AQI.\n",
    "- The precipitation and AQI data points also have a concentration at precipitation = 0, which explains the low relationship between the two\n",
    "- Surprisingly, the mean temperature and AQI tend to have a positive relationship with one another despite having a very low correlation coefficient which can be explained by the 'increasing trend' in the scatterplot. The data points seem to be closer but are still spread out. The presence of outliers may have affected the correlation coefficient, and thus, the relationship between the two."
   ]
  },
  {
   "cell_type": "code",
   "execution_count": 25,
   "id": "c0b3bace",
   "metadata": {},
   "outputs": [
    {
     "data": {
      "image/png": "[encoded data removed]",
      "text/plain": [
       "<Figure size 540x180 with 3 Axes>"
      ]
     },
     "metadata": {
      "needs_background": "light"
     },
     "output_type": "display_data"
    }
   ],
   "source": [
    "county = \"Brevard\"\n",
    "\n",
    "sp_df = filter_data(traffic_data, airq_data, weather_data, county)\n",
    "pairplot(features, target, sp_df, county)"
   ]
  },
  {
   "cell_type": "markdown",
   "id": "5fb711be",
   "metadata": {},
   "source": [
    "Based on the pair scatterplots in Brevard,\n",
    "- The traffic and AQI data points are spread out and follow a decreasing trend, indicating a low negative relationship between traffic and AQI.\n",
    "- The precipitation and AQI data points also have a concentration at precipitation = 0, which explains the low relationship between the two.\n",
    "- Outliers are present in the far left side of the mean temperature and AQI scatterplot, which affects their correlation coefficient. Most of the data points are closer in the far right side, but indicate a low relationship."
   ]
  },
  {
   "cell_type": "code",
   "execution_count": 26,
   "id": "393a70ba",
   "metadata": {
    "scrolled": true
   },
   "outputs": [
    {
     "data": {
      "image/png": "[encoded data removed]",
      "text/plain": [
       "<Figure size 540x180 with 3 Axes>"
      ]
     },
     "metadata": {
      "needs_background": "light"
     },
     "output_type": "display_data"
    }
   ],
   "source": [
    "county = \"Lee\"\n",
    "\n",
    "sp_df = filter_data(traffic_data, airq_data, weather_data, county)\n",
    "\n",
    "pairplot(features, target, sp_df, county)"
   ]
  },
  {
   "cell_type": "markdown",
   "id": "626cdc21",
   "metadata": {},
   "source": [
    "Based on the pair scatterplots in Lee,\n",
    "- Traffic and AQI data points are more spread out in this scatterplot compared to the other top counties.\n",
    "- The precipitation and AQI data points tend to become concentrated at precipitation = 0, but there are other data points that are spread out.\n",
    "- The mean temperature and AQI tend to form a positive relationship with one another, as indicated by a positive slope line in its respective pairplot. "
   ]
  },
  {
   "cell_type": "code",
   "execution_count": 27,
   "id": "4f52fc06",
   "metadata": {},
   "outputs": [
    {
     "data": {
      "image/png": "[encoded data removed]",
      "text/plain": [
       "<Figure size 540x180 with 3 Axes>"
      ]
     },
     "metadata": {
      "needs_background": "light"
     },
     "output_type": "display_data"
    }
   ],
   "source": [
    "county = \"Polk\"\n",
    "\n",
    "sp_df = filter_data(traffic_data, airq_data, weather_data, county)\n",
    "pairplot(features, target, sp_df, county)"
   ]
  },
  {
   "cell_type": "markdown",
   "id": "12a1036f",
   "metadata": {},
   "source": [
    "Based on the pair scatterplots in Polk,\n",
    "- The traffic and AQI data points are also spread out, but show a decreasing trend.\n",
    "- The precipitation and AQI data points are concentrated at precipitation = 0, same as in the previous counties, indicating a low negative relationship.\n",
    "- There are also outliers present in the far left side of the plot of mean temperature and AQI. Majority of the data points are concentrated in the far right side, but indicate a low relationship."
   ]
  },
  {
   "cell_type": "markdown",
   "id": "8dd9de6a",
   "metadata": {},
   "source": [
    "## PART 2.4: Visualizing Trends\n",
    "\n",
    "Let us define a function `trendplot` that visualizes linear trends of AQI from 1st of January to 7th of July; and Precipitation, Temperature, and Traffic for each day in Year 2020. The visualized linear trend was generated using `matplotlib`."
   ]
  },
  {
   "cell_type": "code",
   "execution_count": 28,
   "id": "e7da77fe",
   "metadata": {},
   "outputs": [],
   "source": [
    "#code for trend visuals here\n",
    "def trendplot(county):\n",
    "    fig, cntys = plt.subplots(4, 1, constrained_layout=True)\n",
    "    fig.suptitle(county)\n",
    "    fig.align_labels()\n",
    "\n",
    "\n",
    "    cnty = cntys[0]\n",
    "    aqi_df = airq_data[airq_data['COUNTY'] == county]\n",
    "    cnty.plot(aqi_df['DATE'], aqi_df['AQI'])\n",
    "    cnty.set_ylabel('AQI')\n",
    "    cnty.set_xticks([])\n",
    "\n",
    "    cnty = cntys[1]\n",
    "    precip_df = weather_data[weather_data['COUNTY'] == county]\n",
    "    cnty.plot(precip_df['DATE'], precip_df['PRECIPITATION'])\n",
    "    cnty.set_ylabel('PRECIPITATION')\n",
    "    cnty.set_xticks([])\n",
    "\n",
    "    cnty = cntys[2]\n",
    "    tempe_df = weather_data[weather_data['COUNTY'] == county]\n",
    "    cnty.plot(tempe_df['DATE'], tempe_df['MEAN TEMP'])\n",
    "    cnty.set_ylabel('TEMPERATURE')\n",
    "    cnty.set_xticks([])\n",
    "\n",
    "    cnty = cntys[3]\n",
    "    dates = list(traffic_data.columns)[:-1]\n",
    "    traffic = traffic_data.loc[traffic_data['COUNTY'] == county].values.flatten().tolist()[:-1]\n",
    "    cnty.plot(dates, traffic)\n",
    "    cnty.set_ylabel('TRAFFIC')\n",
    "    cnty.set_xticks([])\n",
    "\n",
    "    plt.show()\n",
    "\n"
   ]
  },
  {
   "cell_type": "markdown",
   "id": "dc2d5d3d",
   "metadata": {},
   "source": [
    "The function was then applied to the Top 5 counties identified in the previous part: Leon, Collier, Brevard, Lee, and Polk. The `trendplot` will then show the linear trends accordingly.\n",
    "\n",
    "\n",
    "For the sake of consistency, the x-axis label has been removed.\n",
    "Note that the x-axis contains the dates for each recorded data each day.\n",
    "AQI contains data from 1st of January to 7th of July.\n",
    "Precipitation, Temperature, and Traffic for each day in Year 2020."
   ]
  },
  {
   "cell_type": "code",
   "execution_count": 29,
   "id": "e653f53e",
   "metadata": {},
   "outputs": [
    {
     "name": "stderr",
     "output_type": "stream",
     "text": [
      "C:\\Users\\JMGB\\AppData\\Local\\Temp/ipykernel_50784/2438016173.py:12: MatplotlibDeprecationWarning: Support for passing numbers through unit converters is deprecated since 3.5 and support will be removed two minor releases later; use Axis.convert_units instead.\n",
      "  cnty.set_xticks([])\n",
      "C:\\Users\\JMGB\\AppData\\Local\\Temp/ipykernel_50784/2438016173.py:18: MatplotlibDeprecationWarning: Support for passing numbers through unit converters is deprecated since 3.5 and support will be removed two minor releases later; use Axis.convert_units instead.\n",
      "  cnty.set_xticks([])\n",
      "C:\\Users\\JMGB\\AppData\\Local\\Temp/ipykernel_50784/2438016173.py:24: MatplotlibDeprecationWarning: Support for passing numbers through unit converters is deprecated since 3.5 and support will be removed two minor releases later; use Axis.convert_units instead.\n",
      "  cnty.set_xticks([])\n",
      "C:\\Users\\JMGB\\AppData\\Local\\Temp/ipykernel_50784/2438016173.py:31: MatplotlibDeprecationWarning: Support for passing numbers through unit converters is deprecated since 3.5 and support will be removed two minor releases later; use Axis.convert_units instead.\n",
      "  cnty.set_xticks([])\n"
     ]
    },
    {
     "data": {
      "image/png": "[encoded data removed]",
      "text/plain": [
       "<Figure size 432x288 with 4 Axes>"
      ]
     },
     "metadata": {
      "needs_background": "light"
     },
     "output_type": "display_data"
    }
   ],
   "source": [
    "county = 'Leon'\n",
    "trendplot(county)"
   ]
  },
  {
   "cell_type": "markdown",
   "id": "0782bfdc",
   "metadata": {},
   "source": [
    "Based on the visualized trends in Leon,\n",
    "- The AQI data has corrugated over the days and peaked around June and July\n",
    "- Precipitation had a baseline of 0 but fluctuates arbitrarily over time and peaked around the middle of 2020\n",
    "- Temperature has risen consistently in the middle of 2020\n",
    "- Traffic data fluctuates in a recognizable pattern throughout 2020 that lowers in the middle"
   ]
  },
  {
   "cell_type": "code",
   "execution_count": 30,
   "id": "383f8d20",
   "metadata": {},
   "outputs": [
    {
     "name": "stderr",
     "output_type": "stream",
     "text": [
      "C:\\Users\\JMGB\\AppData\\Local\\Temp/ipykernel_50784/2438016173.py:12: MatplotlibDeprecationWarning: Support for passing numbers through unit converters is deprecated since 3.5 and support will be removed two minor releases later; use Axis.convert_units instead.\n",
      "  cnty.set_xticks([])\n",
      "C:\\Users\\JMGB\\AppData\\Local\\Temp/ipykernel_50784/2438016173.py:18: MatplotlibDeprecationWarning: Support for passing numbers through unit converters is deprecated since 3.5 and support will be removed two minor releases later; use Axis.convert_units instead.\n",
      "  cnty.set_xticks([])\n",
      "C:\\Users\\JMGB\\AppData\\Local\\Temp/ipykernel_50784/2438016173.py:24: MatplotlibDeprecationWarning: Support for passing numbers through unit converters is deprecated since 3.5 and support will be removed two minor releases later; use Axis.convert_units instead.\n",
      "  cnty.set_xticks([])\n",
      "C:\\Users\\JMGB\\AppData\\Local\\Temp/ipykernel_50784/2438016173.py:31: MatplotlibDeprecationWarning: Support for passing numbers through unit converters is deprecated since 3.5 and support will be removed two minor releases later; use Axis.convert_units instead.\n",
      "  cnty.set_xticks([])\n"
     ]
    },
    {
     "data": {
      "image/png": "[encoded data removed]",
      "text/plain": [
       "<Figure size 432x288 with 4 Axes>"
      ]
     },
     "metadata": {
      "needs_background": "light"
     },
     "output_type": "display_data"
    }
   ],
   "source": [
    "county = 'Collier'\n",
    "trendplot(county)"
   ]
  },
  {
   "cell_type": "markdown",
   "id": "ce1e2221",
   "metadata": {},
   "source": [
    "Based on the visualized trends in Collier,\n",
    "- The AQI data has corrugated over the days and peaked around March and April\n",
    "- Precipitation had a baseline of 0 but fluctuates arbitrarily over time and peaked around the 2nd half of 2020\n",
    "- Temperature has risen consistently in the middle of 2020\n",
    "- Traffic data fluctuates in a recognizable pattern throughout 2020 that lowers in the middle"
   ]
  },
  {
   "cell_type": "code",
   "execution_count": 31,
   "id": "3ce50ef9",
   "metadata": {},
   "outputs": [
    {
     "name": "stderr",
     "output_type": "stream",
     "text": [
      "C:\\Users\\JMGB\\AppData\\Local\\Temp/ipykernel_50784/2438016173.py:12: MatplotlibDeprecationWarning: Support for passing numbers through unit converters is deprecated since 3.5 and support will be removed two minor releases later; use Axis.convert_units instead.\n",
      "  cnty.set_xticks([])\n",
      "C:\\Users\\JMGB\\AppData\\Local\\Temp/ipykernel_50784/2438016173.py:18: MatplotlibDeprecationWarning: Support for passing numbers through unit converters is deprecated since 3.5 and support will be removed two minor releases later; use Axis.convert_units instead.\n",
      "  cnty.set_xticks([])\n",
      "C:\\Users\\JMGB\\AppData\\Local\\Temp/ipykernel_50784/2438016173.py:24: MatplotlibDeprecationWarning: Support for passing numbers through unit converters is deprecated since 3.5 and support will be removed two minor releases later; use Axis.convert_units instead.\n",
      "  cnty.set_xticks([])\n",
      "C:\\Users\\JMGB\\AppData\\Local\\Temp/ipykernel_50784/2438016173.py:31: MatplotlibDeprecationWarning: Support for passing numbers through unit converters is deprecated since 3.5 and support will be removed two minor releases later; use Axis.convert_units instead.\n",
      "  cnty.set_xticks([])\n"
     ]
    },
    {
     "data": {
      "image/png": "[encoded data removed]",
      "text/plain": [
       "<Figure size 432x288 with 4 Axes>"
      ]
     },
     "metadata": {
      "needs_background": "light"
     },
     "output_type": "display_data"
    }
   ],
   "source": [
    "county = 'Brevard'\n",
    "trendplot(county)"
   ]
  },
  {
   "cell_type": "markdown",
   "id": "68fa5c43",
   "metadata": {},
   "source": [
    "Based on the visualized trends in Brevard,\n",
    "- The AQI data has solid bold lines and peaked around March and April\n",
    "- Precipitation had a baseline of 0 but does not apparently change over time and greatly plummeted around the 2nd half of 2020\n",
    "- Temperature kept on plummeting throughout 2020 but maintains a high temperature around the 2nd half of 2020\n",
    "- Traffic data fluctuates in a recognizable pattern throughout 2020 that lowers around the middle"
   ]
  },
  {
   "cell_type": "code",
   "execution_count": 32,
   "id": "3b3953df",
   "metadata": {},
   "outputs": [
    {
     "name": "stderr",
     "output_type": "stream",
     "text": [
      "C:\\Users\\JMGB\\AppData\\Local\\Temp/ipykernel_50784/2438016173.py:12: MatplotlibDeprecationWarning: Support for passing numbers through unit converters is deprecated since 3.5 and support will be removed two minor releases later; use Axis.convert_units instead.\n",
      "  cnty.set_xticks([])\n",
      "C:\\Users\\JMGB\\AppData\\Local\\Temp/ipykernel_50784/2438016173.py:18: MatplotlibDeprecationWarning: Support for passing numbers through unit converters is deprecated since 3.5 and support will be removed two minor releases later; use Axis.convert_units instead.\n",
      "  cnty.set_xticks([])\n",
      "C:\\Users\\JMGB\\AppData\\Local\\Temp/ipykernel_50784/2438016173.py:24: MatplotlibDeprecationWarning: Support for passing numbers through unit converters is deprecated since 3.5 and support will be removed two minor releases later; use Axis.convert_units instead.\n",
      "  cnty.set_xticks([])\n",
      "C:\\Users\\JMGB\\AppData\\Local\\Temp/ipykernel_50784/2438016173.py:31: MatplotlibDeprecationWarning: Support for passing numbers through unit converters is deprecated since 3.5 and support will be removed two minor releases later; use Axis.convert_units instead.\n",
      "  cnty.set_xticks([])\n"
     ]
    },
    {
     "data": {
      "image/png": "[encoded data removed]",
      "text/plain": [
       "<Figure size 432x288 with 4 Axes>"
      ]
     },
     "metadata": {
      "needs_background": "light"
     },
     "output_type": "display_data"
    }
   ],
   "source": [
    "county = 'Lee'\n",
    "trendplot(county)"
   ]
  },
  {
   "cell_type": "markdown",
   "id": "efca6d1a",
   "metadata": {},
   "source": [
    "Based on the visualized trends in Lee,\n",
    "- The AQI data has solid bold lines and peaked around April\n",
    "- Precipitation had a baseline of 0 but does not apparently change until around March and had intense peaks around the 2nd half of 2020\n",
    "- Temperature kept on plummeting throughout 2020 but maintains a high temperature throughout most of 2020\n",
    "- Traffic data fluctuates in a recognizable pattern throughout 2020 that lowers around the middle"
   ]
  },
  {
   "cell_type": "code",
   "execution_count": 33,
   "id": "0942a965",
   "metadata": {},
   "outputs": [
    {
     "name": "stderr",
     "output_type": "stream",
     "text": [
      "C:\\Users\\JMGB\\AppData\\Local\\Temp/ipykernel_50784/2438016173.py:12: MatplotlibDeprecationWarning: Support for passing numbers through unit converters is deprecated since 3.5 and support will be removed two minor releases later; use Axis.convert_units instead.\n",
      "  cnty.set_xticks([])\n",
      "C:\\Users\\JMGB\\AppData\\Local\\Temp/ipykernel_50784/2438016173.py:18: MatplotlibDeprecationWarning: Support for passing numbers through unit converters is deprecated since 3.5 and support will be removed two minor releases later; use Axis.convert_units instead.\n",
      "  cnty.set_xticks([])\n",
      "C:\\Users\\JMGB\\AppData\\Local\\Temp/ipykernel_50784/2438016173.py:24: MatplotlibDeprecationWarning: Support for passing numbers through unit converters is deprecated since 3.5 and support will be removed two minor releases later; use Axis.convert_units instead.\n",
      "  cnty.set_xticks([])\n",
      "C:\\Users\\JMGB\\AppData\\Local\\Temp/ipykernel_50784/2438016173.py:31: MatplotlibDeprecationWarning: Support for passing numbers through unit converters is deprecated since 3.5 and support will be removed two minor releases later; use Axis.convert_units instead.\n",
      "  cnty.set_xticks([])\n"
     ]
    },
    {
     "data": {
      "image/png": "[encoded data removed]",
      "text/plain": [
       "<Figure size 432x288 with 4 Axes>"
      ]
     },
     "metadata": {
      "needs_background": "light"
     },
     "output_type": "display_data"
    }
   ],
   "source": [
    "county = 'Polk'\n",
    "trendplot(county)"
   ]
  },
  {
   "cell_type": "markdown",
   "id": "d32ae794",
   "metadata": {},
   "source": [
    "Based on the visualized trends in Polk,\n",
    "- The AQI data has solid bold lines and peaked around March and April\n",
    "- Precipitation had a baseline of 0 but does not apparently change over time and greatly plummeted around the middle of 2020\n",
    "- Temperature kept on plummeting throughout 2020 especiall around the middle pf 2020\n",
    "- Traffic data fluctuates in a recognizable pattern throughout 2020 that lowers around the middle"
   ]
  },
  {
   "cell_type": "markdown",
   "id": "27ffb69d",
   "metadata": {},
   "source": [
    "# PART 3: Using the Multiple Regression Model\n",
    "\n",
    "For this portion, we can then create a multiple regression model that predicts the trend in the Air Quality Index of a particular county in Florida based on its traffic volume, temperature, and precipitation. However, there have been some adjustments to the dataset based on the results of the pair scatterplots of the top 5 counties in terms of a global ranking. \n",
    "\n",
    "Despite being ranked second globally, the cohesiveness and the large number of data points were seen in the pairplots in *Leon* county. A multivariate regression model will then be created for this particular county.\n",
    "\n",
    "## PART 3.1: Removing Outliers\n",
    "\n",
    "The presence of outliers in the pairplots in *Leon* county may have affected the correlation coefficients of `Traffic`, `Temperature`, and `AQI` data, and may also affect the validity and the strength of the regression model. For this part, the outliers will then be removed through the Inter-Quartile Range (IQR)."
   ]
  },
  {
   "cell_type": "code",
   "execution_count": 40,
   "id": "cf2cd6c3",
   "metadata": {},
   "outputs": [
    {
     "name": "stdout",
     "output_type": "stream",
     "text": [
      "The old shape before removal is (112, 6)\n",
      "The new shape after removal is (108, 6)\n"
     ]
    }
   ],
   "source": [
    "features = ['TRAFFIC', 'PRECIPITATION', 'MEAN TEMP']\n",
    "target = 'AQI'\n",
    "\n",
    "county = \"Leon\"\n",
    "dataset = filter_data(traffic_data, airq_data, weather_data, county)\n",
    "\n",
    "Q1 = np.percentile(dataset['AQI'], 25, interpolation = 'midpoint')\n",
    "Q3 = np.percentile(dataset['AQI'], 75, interpolation = 'midpoint')\n",
    "IQR = Q3 - Q1\n",
    "\n",
    "print(\"The old shape before removal is {}\".format(dataset.shape))\n",
    "\n",
    "upper = np.where(dataset['AQI'] >= (Q3+1.5*IQR))\n",
    "lower = np.where(dataset['AQI'] <= (Q1-1.5*IQR))\n",
    "\n",
    "dataset.drop(upper[0], inplace = True)\n",
    "dataset.drop(lower[0], inplace = True)\n",
    "\n",
    "dataset.dropna()\n",
    "\n",
    "print(\"The new shape after removal is {}\".format(dataset.shape))"
   ]
  },
  {
   "cell_type": "code",
   "execution_count": 41,
   "id": "9fbcf9ee",
   "metadata": {},
   "outputs": [
    {
     "data": {
      "image/png": "[encoded data removed]",
      "text/plain": [
       "<Figure size 540x180 with 3 Axes>"
      ]
     },
     "metadata": {
      "needs_background": "light"
     },
     "output_type": "display_data"
    }
   ],
   "source": [
    "pairplot(features, target, dataset, county)"
   ]
  },
  {
   "cell_type": "markdown",
   "id": "f9f7fe78",
   "metadata": {},
   "source": [
    "Upon showing the scatter plots for the county, the outliers for the traffic and AQI scatter plot identified in the previous section have now been removed. We can then proceed with training the model. However, the concentration of precipitation and AQI data points at precipitation = 0 may affect the linear regression model. The dataframe will then have to be adjusted by removing the `PRECIPITATION` feature and readjusting the features to traffic and mean temperature only."
   ]
  },
  {
   "cell_type": "code",
   "execution_count": 42,
   "id": "222e9777",
   "metadata": {},
   "outputs": [
    {
     "data": {
      "text/html": [
       "<div>\n",
       "<style scoped>\n",
       "    .dataframe tbody tr th:only-of-type {\n",
       "        vertical-align: middle;\n",
       "    }\n",
       "\n",
       "    .dataframe tbody tr th {\n",
       "        vertical-align: top;\n",
       "    }\n",
       "\n",
       "    .dataframe thead th {\n",
       "        text-align: right;\n",
       "    }\n",
       "</style>\n",
       "<table border=\"1\" class=\"dataframe\">\n",
       "  <thead>\n",
       "    <tr style=\"text-align: right;\">\n",
       "      <th></th>\n",
       "      <th>DATE</th>\n",
       "      <th>AQI</th>\n",
       "      <th>COUNTY</th>\n",
       "      <th>MEAN TEMP</th>\n",
       "      <th>TRAFFIC</th>\n",
       "    </tr>\n",
       "  </thead>\n",
       "  <tbody>\n",
       "    <tr>\n",
       "      <th>0</th>\n",
       "      <td>01/03</td>\n",
       "      <td>49</td>\n",
       "      <td>Leon</td>\n",
       "      <td>73.5</td>\n",
       "      <td>166942</td>\n",
       "    </tr>\n",
       "    <tr>\n",
       "      <th>1</th>\n",
       "      <td>01/06</td>\n",
       "      <td>60</td>\n",
       "      <td>Leon</td>\n",
       "      <td>50.5</td>\n",
       "      <td>162310</td>\n",
       "    </tr>\n",
       "    <tr>\n",
       "      <th>2</th>\n",
       "      <td>01/07</td>\n",
       "      <td>46</td>\n",
       "      <td>Leon</td>\n",
       "      <td>53.5</td>\n",
       "      <td>163466</td>\n",
       "    </tr>\n",
       "    <tr>\n",
       "      <th>3</th>\n",
       "      <td>01/08</td>\n",
       "      <td>43</td>\n",
       "      <td>Leon</td>\n",
       "      <td>48.0</td>\n",
       "      <td>166014</td>\n",
       "    </tr>\n",
       "    <tr>\n",
       "      <th>4</th>\n",
       "      <td>01/09</td>\n",
       "      <td>41</td>\n",
       "      <td>Leon</td>\n",
       "      <td>51.0</td>\n",
       "      <td>170007</td>\n",
       "    </tr>\n",
       "    <tr>\n",
       "      <th>...</th>\n",
       "      <td>...</td>\n",
       "      <td>...</td>\n",
       "      <td>...</td>\n",
       "      <td>...</td>\n",
       "      <td>...</td>\n",
       "    </tr>\n",
       "    <tr>\n",
       "      <th>107</th>\n",
       "      <td>06/29</td>\n",
       "      <td>55</td>\n",
       "      <td>Leon</td>\n",
       "      <td>84.0</td>\n",
       "      <td>47745</td>\n",
       "    </tr>\n",
       "    <tr>\n",
       "      <th>108</th>\n",
       "      <td>06/30</td>\n",
       "      <td>51</td>\n",
       "      <td>Leon</td>\n",
       "      <td>85.5</td>\n",
       "      <td>47945</td>\n",
       "    </tr>\n",
       "    <tr>\n",
       "      <th>109</th>\n",
       "      <td>07/01</td>\n",
       "      <td>45</td>\n",
       "      <td>Leon</td>\n",
       "      <td>81.5</td>\n",
       "      <td>81166</td>\n",
       "    </tr>\n",
       "    <tr>\n",
       "      <th>110</th>\n",
       "      <td>07/02</td>\n",
       "      <td>46</td>\n",
       "      <td>Leon</td>\n",
       "      <td>83.0</td>\n",
       "      <td>107798</td>\n",
       "    </tr>\n",
       "    <tr>\n",
       "      <th>111</th>\n",
       "      <td>07/03</td>\n",
       "      <td>38</td>\n",
       "      <td>Leon</td>\n",
       "      <td>82.0</td>\n",
       "      <td>96170</td>\n",
       "    </tr>\n",
       "  </tbody>\n",
       "</table>\n",
       "<p>108 rows × 5 columns</p>\n",
       "</div>"
      ],
      "text/plain": [
       "      DATE  AQI COUNTY  MEAN TEMP  TRAFFIC\n",
       "0    01/03   49   Leon       73.5   166942\n",
       "1    01/06   60   Leon       50.5   162310\n",
       "2    01/07   46   Leon       53.5   163466\n",
       "3    01/08   43   Leon       48.0   166014\n",
       "4    01/09   41   Leon       51.0   170007\n",
       "..     ...  ...    ...        ...      ...\n",
       "107  06/29   55   Leon       84.0    47745\n",
       "108  06/30   51   Leon       85.5    47945\n",
       "109  07/01   45   Leon       81.5    81166\n",
       "110  07/02   46   Leon       83.0   107798\n",
       "111  07/03   38   Leon       82.0    96170\n",
       "\n",
       "[108 rows x 5 columns]"
      ]
     },
     "execution_count": 42,
     "metadata": {},
     "output_type": "execute_result"
    }
   ],
   "source": [
    "dataset.drop(\"PRECIPITATION\", axis = 1, inplace = True)\n",
    "features = ['TRAFFIC', 'MEAN TEMP']\n",
    "target = 'AQI'\n",
    "\n",
    "dataset"
   ]
  },
  {
   "cell_type": "markdown",
   "id": "5dbe860f",
   "metadata": {},
   "source": [
    "## PART 3.2: Train-Test Split and Training the Model\n",
    "\n",
    "Before creating a *multivariate linear regression model*, we have to split our data into random training and test sets using the `train_test_split` function from `sklearn.model_selection`"
   ]
  },
  {
   "cell_type": "code",
   "execution_count": 43,
   "id": "bdd06a33",
   "metadata": {
    "scrolled": true
   },
   "outputs": [
    {
     "name": "stdout",
     "output_type": "stream",
     "text": [
      "(86, 2) (86,)\n",
      "(22, 2) (22,)\n"
     ]
    }
   ],
   "source": [
    "X_train, X_test, y_train, y_test = train_test_split(dataset[features], dataset[target], test_size=1/5)\n",
    "\n",
    "print(X_train.shape, y_train.shape)\n",
    "print(X_test.shape, y_test.shape)"
   ]
  },
  {
   "cell_type": "markdown",
   "id": "f933cdf7",
   "metadata": {},
   "source": [
    "Using `LinearRegression()`, we can then train our model through our training sets."
   ]
  },
  {
   "cell_type": "code",
   "execution_count": 44,
   "id": "bb516ff2",
   "metadata": {},
   "outputs": [
    {
     "name": "stdout",
     "output_type": "stream",
     "text": [
      "intercept: 78.39170455062867\n",
      "('TRAFFIC', -0.00014229626582270923)\n",
      "('MEAN TEMP', -0.21916385230866728)\n"
     ]
    }
   ],
   "source": [
    "model = LinearRegression()\n",
    "model.fit(X_train, y_train)\n",
    "\n",
    "print(f\"intercept: {model.intercept_}\")\n",
    "for i in zip(features, model.coef_):\n",
    "    print(i)"
   ]
  },
  {
   "cell_type": "markdown",
   "id": "b11f7743",
   "metadata": {},
   "source": [
    "The results of training the model can then be interpreted as follows: <br/> \n",
    "$ y = \\text{intercept} + \\text{TRAFFIC\\_coeff}x_0 + \\text{MEAN TEMP\\_coeff}x_1$\n",
    "\n",
    "where...\n",
    "-`intercept` represents the expected AQI value whenever the traffic volume and temperature is 0\n",
    "-`TRAFFIC` represents the coefficient for the traffic component in the linear regression model. This represents the amount of change in the expected AQI whenever the traffic volume is increased by a unit.\n",
    "-`MEAN TEMP` represents the coefficient for the *mean temperature* component in the linear regression model. This represents the amount of change in the expected AQI whenever the mean temperature is increased by a unit."
   ]
  },
  {
   "cell_type": "markdown",
   "id": "0f449110",
   "metadata": {},
   "source": [
    "## PART 3.3: Performance Measurement\n",
    "\n",
    "For this portion, we will feed our test set to our model and determine its accuract. The `score` function of `LinearRegression()` and RMSE will then be used to determine the performance of the model."
   ]
  },
  {
   "cell_type": "code",
   "execution_count": 45,
   "id": "8c935dc9",
   "metadata": {
    "scrolled": true
   },
   "outputs": [
    {
     "name": "stdout",
     "output_type": "stream",
     "text": [
      "The score of our model with respect to the test set is 22.176146137778762%\n"
     ]
    }
   ],
   "source": [
    "print(\"The score of our model with respect to the test set is {}%\".format(model.score(X_test, y_test) * 100))"
   ]
  },
  {
   "cell_type": "markdown",
   "id": "2192d91a",
   "metadata": {},
   "source": [
    "The score depends on what training set was used to train the model since `train_test_split` shuffles the dataset into training and testing samples. However, having a low model score for our linear regression model implies that our model is not reliable for predicting the Air Quality Index of *Leon County* given the traffic volume and mean temperature features. A more reliable dataset or list of features may be needed to accurately model the relationship between traffic volume, temperature, and air quality index."
   ]
  },
  {
   "cell_type": "markdown",
   "id": "b6909120",
   "metadata": {},
   "source": [
    "# PART 4: Summary of Points\n",
    "\n",
    "To summarize, this project aimed to determine the correlation between the Air Quality Index (AQI) in the different counties in Florida, USA with respect to its traffic volume, temperature, and precipitation. Three different data sets were used:\n",
    "\n",
    "- traffic data set\n",
    "- air quality index data set\n",
    "- weather data set\n",
    "\n",
    "The exploratory data analysis revealed important information. First, the top five counties in Florida with respect to their correlation rankings were identified. They were Leon, Collier, Brevard, Lee, and Polk. In addition, the correlation between the AQI and the traffic volume, temperature, and precipitation were calculated and were used to further understand their relationships among each other.\n",
    "\n",
    "The previously identified top five counties were also visualized through scatterplots. These revealed pertinent information as detailed in the report earlier. Generally, the following points were identified:\n",
    "\n",
    "- The precipitation and the AQI tended to concentrate at precipitation = 0, though spread out data points were also present for all.\n",
    "- The observations were less uniform for traffic and temperature among the five counties.\n",
    "\n",
    "Trends were then visualized using matplotlib. To a large extent, the trends for AQI, precipitation, temperature, and traffic appeared to be different among the five counties.\n",
    "\n",
    "For the last part, a multivariate regression model that predicts the trend in the AQI of Leon county based on its traffic volume, temperature, and precipitation was created. Leon county was chosen due to the cohesiveness and the large number of data points seen in its pairplots.\n",
    "\n",
    "Before creating the model itself, outliers present in the data set were removed. The following screenshots show the scatter plots before and after the outliers were removed.\n",
    "\n",
    "<img src=\"before.png\">\n",
    "<img src=\"after.png\">\n",
    "\n",
    "The data was then split into random training and test sets. After the train-test split, the model was trained with the following interpretation as the result:\n",
    "\n",
    "$$ y = \\text{intercept} + \\text{TRAFFIC\\_coeff}x_0 + \\text{MEAN TEMP\\_coeff}x_1 $$"
   ]
  }
 ],
 "metadata": {
  "interpreter": {
   "hash": "a36ac3473f4f765ee1d32c07f947cfa193603dbfd7ba2aa7bf3e12c57f78d587"
  },
  "kernelspec": {
   "display_name": "Python 3 (ipykernel)",
   "language": "python",
   "name": "python3"
  },
  "language_info": {
   "codemirror_mode": {
    "name": "ipython",
    "version": 3
   },
   "file_extension": ".py",
   "mimetype": "text/x-python",
   "name": "python",
   "nbconvert_exporter": "python",
   "pygments_lexer": "ipython3",
   "version": "3.10.4"
  }
 },
 "nbformat": 4,
 "nbformat_minor": 5
}
