{
 "cells": [
  {
   "cell_type": "markdown",
   "id": "b91529e8",
   "metadata": {},
   "source": [
    "# CS 132 21.2 Machine Project\n",
    "# Florida Traffic and Air Quality Index Analysis Notebook\n",
    "\n",
    "## About this Notebook\n",
    "This Python notebook is dedicated for the following steps in CS 132 21.2 project:\n",
    "- Cleaning and processing traffic and AQI data further\n",
    "- Exploratory data analysis\n",
    "- Using linear regression to model the increase in AQI per amount of cars that are added\n",
    "- Visualizing the data\n",
    "\n",
    "This notebook/report is prepared by:\n",
    "- James Matthew G. Borines\n",
    "- Alyssa Beatrice A. Diokno\n",
    "- Derryn Joi O. Martirez\n",
    "- Jan Albert D. Quidet\n",
    "\n",
    "## Preliminaries\n",
    "\n",
    "The following external libraries used in this notebook is given by the list below. Make sure that the following are installed in your machine before running subsequent cells. These libraries were installed via `pip`: `pip install <library-name>`\n",
    "- `pandas`\n",
    "- `seaborn`\n",
    "\n",
    "Run the cell below to load all dependencies and libraries"
   ]
  },
  {
   "cell_type": "code",
   "execution_count": 94,
   "id": "118078e5",
   "metadata": {},
   "outputs": [],
   "source": [
    "#lahat ng libraries na gagamitin natin, paki-lagay na lang yung import statements dito\n",
    "import pandas as pd\n",
    "import seaborn as sns\n",
    "from sklearn.linear_model import LinearRegression"
   ]
  },
  {
   "cell_type": "markdown",
   "id": "953b584d",
   "metadata": {},
   "source": [
    "## Loading Datasets\n",
    "\n",
    "We define two dataframe variables, which will be used throughout the duration of this notebook/report:\n",
    "- `traffic_data`: pertains to the traffic data in Florida\n",
    "- `airq_data`: pertains to the air quality data in Florida\n",
    "\n",
    "Both of these datasets are preprocessed beforehand."
   ]
  },
  {
   "cell_type": "code",
   "execution_count": 95,
   "id": "3a560967",
   "metadata": {},
   "outputs": [],
   "source": [
    "traffic_data = pd.read_csv('florida_traffic_data.csv')\n",
    "weather_data = pd.read_csv('florida_weather_data.csv')\n",
    "airq_data = pd.read_csv('florida_aqi_data.csv')"
   ]
  },
  {
   "cell_type": "code",
   "execution_count": 96,
   "id": "7064eb6f",
   "metadata": {},
   "outputs": [
    {
     "data": {
      "text/html": [
       "<div>\n",
       "<style scoped>\n",
       "    .dataframe tbody tr th:only-of-type {\n",
       "        vertical-align: middle;\n",
       "    }\n",
       "\n",
       "    .dataframe tbody tr th {\n",
       "        vertical-align: top;\n",
       "    }\n",
       "\n",
       "    .dataframe thead th {\n",
       "        text-align: right;\n",
       "    }\n",
       "</style>\n",
       "<table border=\"1\" class=\"dataframe\">\n",
       "  <thead>\n",
       "    <tr style=\"text-align: right;\">\n",
       "      <th></th>\n",
       "      <th>01/01</th>\n",
       "      <th>01/02</th>\n",
       "      <th>01/03</th>\n",
       "      <th>01/04</th>\n",
       "      <th>01/05</th>\n",
       "      <th>01/06</th>\n",
       "      <th>01/07</th>\n",
       "      <th>01/08</th>\n",
       "      <th>01/09</th>\n",
       "      <th>01/10</th>\n",
       "      <th>...</th>\n",
       "      <th>06/29</th>\n",
       "      <th>06/30</th>\n",
       "      <th>07/01</th>\n",
       "      <th>07/02</th>\n",
       "      <th>07/03</th>\n",
       "      <th>07/04</th>\n",
       "      <th>07/05</th>\n",
       "      <th>07/06</th>\n",
       "      <th>07/07</th>\n",
       "      <th>COUNTY</th>\n",
       "    </tr>\n",
       "  </thead>\n",
       "  <tbody>\n",
       "    <tr>\n",
       "      <th>0</th>\n",
       "      <td>93577</td>\n",
       "      <td>130263</td>\n",
       "      <td>137751</td>\n",
       "      <td>110805</td>\n",
       "      <td>101379</td>\n",
       "      <td>120925</td>\n",
       "      <td>117384</td>\n",
       "      <td>122200</td>\n",
       "      <td>125525</td>\n",
       "      <td>133191</td>\n",
       "      <td>...</td>\n",
       "      <td>98897</td>\n",
       "      <td>99327</td>\n",
       "      <td>102682</td>\n",
       "      <td>111925</td>\n",
       "      <td>103217</td>\n",
       "      <td>71816</td>\n",
       "      <td>81094</td>\n",
       "      <td>99167</td>\n",
       "      <td>96529</td>\n",
       "      <td>Charlotte</td>\n",
       "    </tr>\n",
       "    <tr>\n",
       "      <th>1</th>\n",
       "      <td>27107</td>\n",
       "      <td>42907</td>\n",
       "      <td>45616</td>\n",
       "      <td>33070</td>\n",
       "      <td>32908</td>\n",
       "      <td>41046</td>\n",
       "      <td>43203</td>\n",
       "      <td>44375</td>\n",
       "      <td>45091</td>\n",
       "      <td>47476</td>\n",
       "      <td>...</td>\n",
       "      <td>35886</td>\n",
       "      <td>38459</td>\n",
       "      <td>43349</td>\n",
       "      <td>46666</td>\n",
       "      <td>45621</td>\n",
       "      <td>34863</td>\n",
       "      <td>31295</td>\n",
       "      <td>40701</td>\n",
       "      <td>42047</td>\n",
       "      <td>Citrus</td>\n",
       "    </tr>\n",
       "    <tr>\n",
       "      <th>2</th>\n",
       "      <td>236551</td>\n",
       "      <td>325565</td>\n",
       "      <td>338452</td>\n",
       "      <td>284312</td>\n",
       "      <td>264567</td>\n",
       "      <td>314038</td>\n",
       "      <td>304515</td>\n",
       "      <td>310861</td>\n",
       "      <td>318654</td>\n",
       "      <td>335605</td>\n",
       "      <td>...</td>\n",
       "      <td>216490</td>\n",
       "      <td>214114</td>\n",
       "      <td>220510</td>\n",
       "      <td>234920</td>\n",
       "      <td>218501</td>\n",
       "      <td>147360</td>\n",
       "      <td>165241</td>\n",
       "      <td>213985</td>\n",
       "      <td>207772</td>\n",
       "      <td>Collier</td>\n",
       "    </tr>\n",
       "    <tr>\n",
       "      <th>3</th>\n",
       "      <td>15620</td>\n",
       "      <td>22611</td>\n",
       "      <td>24145</td>\n",
       "      <td>18099</td>\n",
       "      <td>18292</td>\n",
       "      <td>22028</td>\n",
       "      <td>21675</td>\n",
       "      <td>22571</td>\n",
       "      <td>23220</td>\n",
       "      <td>25535</td>\n",
       "      <td>...</td>\n",
       "      <td>18203</td>\n",
       "      <td>18602</td>\n",
       "      <td>18885</td>\n",
       "      <td>20446</td>\n",
       "      <td>18055</td>\n",
       "      <td>12816</td>\n",
       "      <td>14553</td>\n",
       "      <td>18841</td>\n",
       "      <td>17845</td>\n",
       "      <td>Desoto</td>\n",
       "    </tr>\n",
       "    <tr>\n",
       "      <th>4</th>\n",
       "      <td>3437</td>\n",
       "      <td>4675</td>\n",
       "      <td>5495</td>\n",
       "      <td>3620</td>\n",
       "      <td>3310</td>\n",
       "      <td>4655</td>\n",
       "      <td>4581</td>\n",
       "      <td>4488</td>\n",
       "      <td>4883</td>\n",
       "      <td>5273</td>\n",
       "      <td>...</td>\n",
       "      <td>3963</td>\n",
       "      <td>3847</td>\n",
       "      <td>4235</td>\n",
       "      <td>4159</td>\n",
       "      <td>3614</td>\n",
       "      <td>2638</td>\n",
       "      <td>2901</td>\n",
       "      <td>3808</td>\n",
       "      <td>3913</td>\n",
       "      <td>Glades</td>\n",
       "    </tr>\n",
       "  </tbody>\n",
       "</table>\n",
       "<p>5 rows × 185 columns</p>\n",
       "</div>"
      ],
      "text/plain": [
       "    01/01   01/02   01/03   01/04   01/05   01/06   01/07   01/08   01/09  \\\n",
       "0   93577  130263  137751  110805  101379  120925  117384  122200  125525   \n",
       "1   27107   42907   45616   33070   32908   41046   43203   44375   45091   \n",
       "2  236551  325565  338452  284312  264567  314038  304515  310861  318654   \n",
       "3   15620   22611   24145   18099   18292   22028   21675   22571   23220   \n",
       "4    3437    4675    5495    3620    3310    4655    4581    4488    4883   \n",
       "\n",
       "    01/10  ...   06/29   06/30   07/01   07/02   07/03   07/04   07/05  \\\n",
       "0  133191  ...   98897   99327  102682  111925  103217   71816   81094   \n",
       "1   47476  ...   35886   38459   43349   46666   45621   34863   31295   \n",
       "2  335605  ...  216490  214114  220510  234920  218501  147360  165241   \n",
       "3   25535  ...   18203   18602   18885   20446   18055   12816   14553   \n",
       "4    5273  ...    3963    3847    4235    4159    3614    2638    2901   \n",
       "\n",
       "    07/06   07/07     COUNTY  \n",
       "0   99167   96529  Charlotte  \n",
       "1   40701   42047     Citrus  \n",
       "2  213985  207772    Collier  \n",
       "3   18841   17845     Desoto  \n",
       "4    3808    3913     Glades  \n",
       "\n",
       "[5 rows x 185 columns]"
      ]
     },
     "execution_count": 96,
     "metadata": {},
     "output_type": "execute_result"
    }
   ],
   "source": [
    "traffic_data.head()"
   ]
  },
  {
   "cell_type": "markdown",
   "id": "6f5eee85",
   "metadata": {},
   "source": [
    "The preprocessed traffic data contains the following information:\n",
    "- Each row represents a county in Florida that has traffic data\n",
    "- Each column represents a date in which traffic data was recorded\n",
    "- Each cell represents the total volume of traffic for a particular county on a particular date."
   ]
  },
  {
   "cell_type": "code",
   "execution_count": 97,
   "id": "a6bb4d26",
   "metadata": {},
   "outputs": [
    {
     "data": {
      "text/html": [
       "<div>\n",
       "<style scoped>\n",
       "    .dataframe tbody tr th:only-of-type {\n",
       "        vertical-align: middle;\n",
       "    }\n",
       "\n",
       "    .dataframe tbody tr th {\n",
       "        vertical-align: top;\n",
       "    }\n",
       "\n",
       "    .dataframe thead th {\n",
       "        text-align: right;\n",
       "    }\n",
       "</style>\n",
       "<table border=\"1\" class=\"dataframe\">\n",
       "  <thead>\n",
       "    <tr style=\"text-align: right;\">\n",
       "      <th></th>\n",
       "      <th>COUNTY</th>\n",
       "      <th>DATE</th>\n",
       "      <th>PRECIPITATION</th>\n",
       "      <th>MEAN TEMP</th>\n",
       "    </tr>\n",
       "  </thead>\n",
       "  <tbody>\n",
       "    <tr>\n",
       "      <th>0</th>\n",
       "      <td>Alachua</td>\n",
       "      <td>01/01</td>\n",
       "      <td>0.00000</td>\n",
       "      <td>52.5</td>\n",
       "    </tr>\n",
       "    <tr>\n",
       "      <th>1</th>\n",
       "      <td>Alachua</td>\n",
       "      <td>01/02</td>\n",
       "      <td>0.00000</td>\n",
       "      <td>61.5</td>\n",
       "    </tr>\n",
       "    <tr>\n",
       "      <th>2</th>\n",
       "      <td>Alachua</td>\n",
       "      <td>01/03</td>\n",
       "      <td>0.00001</td>\n",
       "      <td>73.0</td>\n",
       "    </tr>\n",
       "    <tr>\n",
       "      <th>3</th>\n",
       "      <td>Alachua</td>\n",
       "      <td>01/04</td>\n",
       "      <td>0.68000</td>\n",
       "      <td>63.0</td>\n",
       "    </tr>\n",
       "    <tr>\n",
       "      <th>4</th>\n",
       "      <td>Alachua</td>\n",
       "      <td>01/05</td>\n",
       "      <td>0.00000</td>\n",
       "      <td>50.0</td>\n",
       "    </tr>\n",
       "  </tbody>\n",
       "</table>\n",
       "</div>"
      ],
      "text/plain": [
       "    COUNTY   DATE  PRECIPITATION  MEAN TEMP\n",
       "0  Alachua  01/01        0.00000       52.5\n",
       "1  Alachua  01/02        0.00000       61.5\n",
       "2  Alachua  01/03        0.00001       73.0\n",
       "3  Alachua  01/04        0.68000       63.0\n",
       "4  Alachua  01/05        0.00000       50.0"
      ]
     },
     "execution_count": 97,
     "metadata": {},
     "output_type": "execute_result"
    }
   ],
   "source": [
    "weather_data.head()"
   ]
  },
  {
   "cell_type": "markdown",
   "id": "74e12e49",
   "metadata": {},
   "source": [
    "The preprocessed weather data contains the following information:\n",
    "\n",
    "- The `COUNTY` column signifies the county in which weather data is recorded\n",
    "- The `DATE` column signifies the date in which weather data is recorded\n",
    "- The `PRECIPITATION` column signifies the average precipitation level for the county at that date (in inches)\n",
    "- The `MEAN TEMP` column signifies the average temperature for the county at that date (in degrees Fahrenheit)"
   ]
  },
  {
   "cell_type": "code",
   "execution_count": 98,
   "id": "497fd46a",
   "metadata": {
    "scrolled": true
   },
   "outputs": [
    {
     "data": {
      "text/html": [
       "<div>\n",
       "<style scoped>\n",
       "    .dataframe tbody tr th:only-of-type {\n",
       "        vertical-align: middle;\n",
       "    }\n",
       "\n",
       "    .dataframe tbody tr th {\n",
       "        vertical-align: top;\n",
       "    }\n",
       "\n",
       "    .dataframe thead th {\n",
       "        text-align: right;\n",
       "    }\n",
       "</style>\n",
       "<table border=\"1\" class=\"dataframe\">\n",
       "  <thead>\n",
       "    <tr style=\"text-align: right;\">\n",
       "      <th></th>\n",
       "      <th>COUNTY</th>\n",
       "      <th>DATE</th>\n",
       "      <th>AQI</th>\n",
       "      <th>PARAMETER</th>\n",
       "    </tr>\n",
       "  </thead>\n",
       "  <tbody>\n",
       "    <tr>\n",
       "      <th>0</th>\n",
       "      <td>Alachua</td>\n",
       "      <td>01/03</td>\n",
       "      <td>35</td>\n",
       "      <td>PM2.5</td>\n",
       "    </tr>\n",
       "    <tr>\n",
       "      <th>1</th>\n",
       "      <td>Alachua</td>\n",
       "      <td>01/08</td>\n",
       "      <td>52</td>\n",
       "      <td>PM2.5</td>\n",
       "    </tr>\n",
       "    <tr>\n",
       "      <th>2</th>\n",
       "      <td>Alachua</td>\n",
       "      <td>01/09</td>\n",
       "      <td>48</td>\n",
       "      <td>PM2.5</td>\n",
       "    </tr>\n",
       "    <tr>\n",
       "      <th>3</th>\n",
       "      <td>Alachua</td>\n",
       "      <td>01/11</td>\n",
       "      <td>38</td>\n",
       "      <td>PM2.5</td>\n",
       "    </tr>\n",
       "    <tr>\n",
       "      <th>4</th>\n",
       "      <td>Alachua</td>\n",
       "      <td>01/12</td>\n",
       "      <td>37</td>\n",
       "      <td>PM2.5</td>\n",
       "    </tr>\n",
       "  </tbody>\n",
       "</table>\n",
       "</div>"
      ],
      "text/plain": [
       "    COUNTY   DATE  AQI PARAMETER\n",
       "0  Alachua  01/03   35     PM2.5\n",
       "1  Alachua  01/08   52     PM2.5\n",
       "2  Alachua  01/09   48     PM2.5\n",
       "3  Alachua  01/11   38     PM2.5\n",
       "4  Alachua  01/12   37     PM2.5"
      ]
     },
     "execution_count": 98,
     "metadata": {},
     "output_type": "execute_result"
    }
   ],
   "source": [
    "airq_data.head()"
   ]
  },
  {
   "cell_type": "markdown",
   "id": "a7df6b99",
   "metadata": {},
   "source": [
    "The preprocessed air quality data contains the following information:\n",
    "- The `COUNTY` column signifies the county in which air quality data is recorded\n",
    "- The `DATE` column signifies the date in which air quality data is recorded\n",
    "- The `AQI` column signifies the Air Quality Index recorded for that particular county at a particular date\n",
    "- The `PARAMETER` column defines the *recorded parameter* to which AQI is recorded. The original dataset contains other defining parameters, such as *Ozone*, *CO*, and *SO2*.\n",
    "\n",
    "Each cell represents the PM2.5 air quality index measurement for a particular county and particular date."
   ]
  },
  {
   "cell_type": "markdown",
   "id": "9452dc21",
   "metadata": {},
   "source": [
    "# PART 1: Preprocessing Data\n",
    "\n",
    "There are only certain counties that have been recorded by the air quality data of Florida. We can then filter the traffic data so that its counties is consistent with the recorded counties in the air quality data."
   ]
  },
  {
   "cell_type": "code",
   "execution_count": 99,
   "id": "b1d30083",
   "metadata": {},
   "outputs": [
    {
     "data": {
      "text/plain": [
       "array(['Alachua', 'Baker', 'Bay', 'Brevard', 'Broward', 'Citrus',\n",
       "       'Collier', 'Columbia', 'Duval', 'Escambia', 'Hamilton',\n",
       "       'Hillsborough', 'Holmes', 'Lee', 'Leon', 'Marion', 'Martin',\n",
       "       'Miami-Dade', 'Nassau', 'Orange', 'Palm Beach', 'Pinellas', 'Polk',\n",
       "       'Santa Rosa', 'Sarasota', 'Seminole', 'Volusia', 'Wakulla'],\n",
       "      dtype=object)"
      ]
     },
     "execution_count": 99,
     "metadata": {},
     "output_type": "execute_result"
    }
   ],
   "source": [
    "#determine counties in the air quality data\n",
    "county_airq = airq_data['COUNTY'].unique()\n",
    "\n",
    "county_airq"
   ]
  },
  {
   "cell_type": "code",
   "execution_count": 100,
   "id": "af610345",
   "metadata": {},
   "outputs": [
    {
     "data": {
      "text/plain": [
       "array(['Charlotte', 'Citrus', 'Collier', 'Desoto', 'Glades', 'Hendry',\n",
       "       'Hernando', 'Highlands', 'Hillsborough', 'Lake', 'Lee', 'Manatee',\n",
       "       'Pasco', 'Pinellas', 'Polk', 'Sarasota', 'Sumter', 'Alachua',\n",
       "       'Baker', 'Bradford', 'Columbia', 'Dixie', 'Hamilton', 'Lafayette',\n",
       "       'Levy', 'Madison', 'Marion', 'Suwannee', 'Taylor', 'Bay',\n",
       "       'Calhoun', 'Escambia', 'Franklin', 'Gadsden', 'Gulf', 'Holmes',\n",
       "       'Jackson', 'Jefferson', 'Leon', 'Liberty', 'Okaloosa',\n",
       "       'Santa Rosa', 'Wakulla', 'Walton', 'Washington', 'Brevard', 'Clay',\n",
       "       'Duval', 'Flagler', 'Nassau', 'Orange', 'Putnam', 'Seminole',\n",
       "       'St. Johns', 'Volusia', 'Broward', 'Miami-Dade', 'Indian River',\n",
       "       'Martin', 'Monroe', 'Osceola', 'Palm Beach', 'St. Lucie',\n",
       "       \"Florida's Turnpike\"], dtype=object)"
      ]
     },
     "execution_count": 100,
     "metadata": {},
     "output_type": "execute_result"
    }
   ],
   "source": [
    "#determine counties in traffic data\n",
    "county_traffic = traffic_data['COUNTY'].unique()\n",
    "\n",
    "county_traffic"
   ]
  },
  {
   "cell_type": "code",
   "execution_count": 101,
   "id": "8d825e5e",
   "metadata": {},
   "outputs": [
    {
     "data": {
      "text/plain": [
       "array(['Alachua', 'Baker', 'Bay', 'Brevard', 'Broward', 'Citrus',\n",
       "       'Collier', 'Columbia', 'Duval', 'Escambia', 'Hamilton',\n",
       "       'Hillsborough', 'Lee', 'Leon', 'Marion', 'Martin', 'Miami-Dade',\n",
       "       'Nassau', 'Orange', 'Palm Beach', 'Pinellas', 'Polk', 'Sarasota',\n",
       "       'Seminole', 'Volusia'], dtype=object)"
      ]
     },
     "execution_count": 101,
     "metadata": {},
     "output_type": "execute_result"
    }
   ],
   "source": [
    "county_weather = weather_data['COUNTY'].unique()\n",
    "\n",
    "county_weather"
   ]
  },
  {
   "cell_type": "code",
   "execution_count": 102,
   "id": "f5a921dd",
   "metadata": {},
   "outputs": [
    {
     "name": "stdout",
     "output_type": "stream",
     "text": [
      "['Miami-Dade', 'Pinellas', 'Palm Beach', 'Brevard', 'Columbia', 'Collier', 'Marion', 'Volusia', 'Martin', 'Duval', 'Sarasota', 'Alachua', 'Bay', 'Citrus', 'Orange', 'Leon', 'Seminole', 'Polk', 'Lee', 'Nassau', 'Broward', 'Hillsborough', 'Baker', 'Hamilton', 'Escambia']\n"
     ]
    }
   ],
   "source": [
    "#determine counties that are common for both datasets\n",
    "common_counties = list(set(county_airq).intersection(set(county_traffic)))\n",
    "common_counties = list(set(common_counties).intersection(set(county_weather)))\n",
    "\n",
    "print(common_counties)"
   ]
  },
  {
   "cell_type": "markdown",
   "id": "3ea59b5d",
   "metadata": {},
   "source": [
    "The variable `common_counties` represent counties in Florida that are common for both air quality and traffic data. We could now filter both the traffic and air quality data according to their common counties, represented by the `common_counties` variable."
   ]
  },
  {
   "cell_type": "code",
   "execution_count": 103,
   "id": "9d2fec35",
   "metadata": {},
   "outputs": [
    {
     "data": {
      "text/html": [
       "<div>\n",
       "<style scoped>\n",
       "    .dataframe tbody tr th:only-of-type {\n",
       "        vertical-align: middle;\n",
       "    }\n",
       "\n",
       "    .dataframe tbody tr th {\n",
       "        vertical-align: top;\n",
       "    }\n",
       "\n",
       "    .dataframe thead th {\n",
       "        text-align: right;\n",
       "    }\n",
       "</style>\n",
       "<table border=\"1\" class=\"dataframe\">\n",
       "  <thead>\n",
       "    <tr style=\"text-align: right;\">\n",
       "      <th></th>\n",
       "      <th>01/01</th>\n",
       "      <th>01/02</th>\n",
       "      <th>01/03</th>\n",
       "      <th>01/04</th>\n",
       "      <th>01/05</th>\n",
       "      <th>01/06</th>\n",
       "      <th>01/07</th>\n",
       "      <th>01/08</th>\n",
       "      <th>01/09</th>\n",
       "      <th>01/10</th>\n",
       "      <th>...</th>\n",
       "      <th>06/29</th>\n",
       "      <th>06/30</th>\n",
       "      <th>07/01</th>\n",
       "      <th>07/02</th>\n",
       "      <th>07/03</th>\n",
       "      <th>07/04</th>\n",
       "      <th>07/05</th>\n",
       "      <th>07/06</th>\n",
       "      <th>07/07</th>\n",
       "      <th>COUNTY</th>\n",
       "    </tr>\n",
       "  </thead>\n",
       "  <tbody>\n",
       "    <tr>\n",
       "      <th>17</th>\n",
       "      <td>114200</td>\n",
       "      <td>154629</td>\n",
       "      <td>166054</td>\n",
       "      <td>151168</td>\n",
       "      <td>146477</td>\n",
       "      <td>138321</td>\n",
       "      <td>128157</td>\n",
       "      <td>127949</td>\n",
       "      <td>134169</td>\n",
       "      <td>147862</td>\n",
       "      <td>...</td>\n",
       "      <td>125297</td>\n",
       "      <td>122412</td>\n",
       "      <td>131997</td>\n",
       "      <td>143193</td>\n",
       "      <td>137491</td>\n",
       "      <td>90080</td>\n",
       "      <td>118842</td>\n",
       "      <td>131855</td>\n",
       "      <td>120127</td>\n",
       "      <td>Alachua</td>\n",
       "    </tr>\n",
       "    <tr>\n",
       "      <th>18</th>\n",
       "      <td>2071</td>\n",
       "      <td>2796</td>\n",
       "      <td>3081</td>\n",
       "      <td>2526</td>\n",
       "      <td>2375</td>\n",
       "      <td>2565</td>\n",
       "      <td>2627</td>\n",
       "      <td>2745</td>\n",
       "      <td>2853</td>\n",
       "      <td>3272</td>\n",
       "      <td>...</td>\n",
       "      <td>2965</td>\n",
       "      <td>2929</td>\n",
       "      <td>3014</td>\n",
       "      <td>3288</td>\n",
       "      <td>3183</td>\n",
       "      <td>2641</td>\n",
       "      <td>2550</td>\n",
       "      <td>2857</td>\n",
       "      <td>2707</td>\n",
       "      <td>Baker</td>\n",
       "    </tr>\n",
       "    <tr>\n",
       "      <th>29</th>\n",
       "      <td>92354</td>\n",
       "      <td>139450</td>\n",
       "      <td>141158</td>\n",
       "      <td>111372</td>\n",
       "      <td>91151</td>\n",
       "      <td>139712</td>\n",
       "      <td>144079</td>\n",
       "      <td>144889</td>\n",
       "      <td>145925</td>\n",
       "      <td>154921</td>\n",
       "      <td>...</td>\n",
       "      <td>138276</td>\n",
       "      <td>154222</td>\n",
       "      <td>139730</td>\n",
       "      <td>166732</td>\n",
       "      <td>155771</td>\n",
       "      <td>124145</td>\n",
       "      <td>123179</td>\n",
       "      <td>133025</td>\n",
       "      <td>145192</td>\n",
       "      <td>Bay</td>\n",
       "    </tr>\n",
       "    <tr>\n",
       "      <th>45</th>\n",
       "      <td>261851</td>\n",
       "      <td>367668</td>\n",
       "      <td>401305</td>\n",
       "      <td>332429</td>\n",
       "      <td>299054</td>\n",
       "      <td>346140</td>\n",
       "      <td>321507</td>\n",
       "      <td>325505</td>\n",
       "      <td>332772</td>\n",
       "      <td>370856</td>\n",
       "      <td>...</td>\n",
       "      <td>287127</td>\n",
       "      <td>291592</td>\n",
       "      <td>295687</td>\n",
       "      <td>320577</td>\n",
       "      <td>305800</td>\n",
       "      <td>215883</td>\n",
       "      <td>242171</td>\n",
       "      <td>281311</td>\n",
       "      <td>275538</td>\n",
       "      <td>Brevard</td>\n",
       "    </tr>\n",
       "    <tr>\n",
       "      <th>55</th>\n",
       "      <td>654055</td>\n",
       "      <td>855843</td>\n",
       "      <td>900897</td>\n",
       "      <td>785596</td>\n",
       "      <td>702080</td>\n",
       "      <td>873355</td>\n",
       "      <td>902844</td>\n",
       "      <td>893983</td>\n",
       "      <td>908921</td>\n",
       "      <td>925687</td>\n",
       "      <td>...</td>\n",
       "      <td>715555</td>\n",
       "      <td>734498</td>\n",
       "      <td>736393</td>\n",
       "      <td>764052</td>\n",
       "      <td>712455</td>\n",
       "      <td>522985</td>\n",
       "      <td>494879</td>\n",
       "      <td>697840</td>\n",
       "      <td>709431</td>\n",
       "      <td>Broward</td>\n",
       "    </tr>\n",
       "  </tbody>\n",
       "</table>\n",
       "<p>5 rows × 185 columns</p>\n",
       "</div>"
      ],
      "text/plain": [
       "     01/01   01/02   01/03   01/04   01/05   01/06   01/07   01/08   01/09  \\\n",
       "17  114200  154629  166054  151168  146477  138321  128157  127949  134169   \n",
       "18    2071    2796    3081    2526    2375    2565    2627    2745    2853   \n",
       "29   92354  139450  141158  111372   91151  139712  144079  144889  145925   \n",
       "45  261851  367668  401305  332429  299054  346140  321507  325505  332772   \n",
       "55  654055  855843  900897  785596  702080  873355  902844  893983  908921   \n",
       "\n",
       "     01/10  ...   06/29   06/30   07/01   07/02   07/03   07/04   07/05  \\\n",
       "17  147862  ...  125297  122412  131997  143193  137491   90080  118842   \n",
       "18    3272  ...    2965    2929    3014    3288    3183    2641    2550   \n",
       "29  154921  ...  138276  154222  139730  166732  155771  124145  123179   \n",
       "45  370856  ...  287127  291592  295687  320577  305800  215883  242171   \n",
       "55  925687  ...  715555  734498  736393  764052  712455  522985  494879   \n",
       "\n",
       "     07/06   07/07   COUNTY  \n",
       "17  131855  120127  Alachua  \n",
       "18    2857    2707    Baker  \n",
       "29  133025  145192      Bay  \n",
       "45  281311  275538  Brevard  \n",
       "55  697840  709431  Broward  \n",
       "\n",
       "[5 rows x 185 columns]"
      ]
     },
     "execution_count": 103,
     "metadata": {},
     "output_type": "execute_result"
    }
   ],
   "source": [
    "#filter the traffic data by common counties\n",
    "traffic_data = traffic_data[traffic_data['COUNTY'].isin(common_counties)]\n",
    "\n",
    "traffic_data.sort_values('COUNTY', inplace = True)\n",
    "traffic_data.head()"
   ]
  },
  {
   "cell_type": "code",
   "execution_count": 104,
   "id": "04b44dd6",
   "metadata": {},
   "outputs": [
    {
     "data": {
      "text/html": [
       "<div>\n",
       "<style scoped>\n",
       "    .dataframe tbody tr th:only-of-type {\n",
       "        vertical-align: middle;\n",
       "    }\n",
       "\n",
       "    .dataframe tbody tr th {\n",
       "        vertical-align: top;\n",
       "    }\n",
       "\n",
       "    .dataframe thead th {\n",
       "        text-align: right;\n",
       "    }\n",
       "</style>\n",
       "<table border=\"1\" class=\"dataframe\">\n",
       "  <thead>\n",
       "    <tr style=\"text-align: right;\">\n",
       "      <th></th>\n",
       "      <th>COUNTY</th>\n",
       "      <th>DATE</th>\n",
       "      <th>AQI</th>\n",
       "      <th>PARAMETER</th>\n",
       "    </tr>\n",
       "  </thead>\n",
       "  <tbody>\n",
       "    <tr>\n",
       "      <th>0</th>\n",
       "      <td>Alachua</td>\n",
       "      <td>01/03</td>\n",
       "      <td>35</td>\n",
       "      <td>PM2.5</td>\n",
       "    </tr>\n",
       "    <tr>\n",
       "      <th>1</th>\n",
       "      <td>Alachua</td>\n",
       "      <td>01/08</td>\n",
       "      <td>52</td>\n",
       "      <td>PM2.5</td>\n",
       "    </tr>\n",
       "    <tr>\n",
       "      <th>2</th>\n",
       "      <td>Alachua</td>\n",
       "      <td>01/09</td>\n",
       "      <td>48</td>\n",
       "      <td>PM2.5</td>\n",
       "    </tr>\n",
       "    <tr>\n",
       "      <th>3</th>\n",
       "      <td>Alachua</td>\n",
       "      <td>01/11</td>\n",
       "      <td>38</td>\n",
       "      <td>PM2.5</td>\n",
       "    </tr>\n",
       "    <tr>\n",
       "      <th>4</th>\n",
       "      <td>Alachua</td>\n",
       "      <td>01/12</td>\n",
       "      <td>37</td>\n",
       "      <td>PM2.5</td>\n",
       "    </tr>\n",
       "  </tbody>\n",
       "</table>\n",
       "</div>"
      ],
      "text/plain": [
       "    COUNTY   DATE  AQI PARAMETER\n",
       "0  Alachua  01/03   35     PM2.5\n",
       "1  Alachua  01/08   52     PM2.5\n",
       "2  Alachua  01/09   48     PM2.5\n",
       "3  Alachua  01/11   38     PM2.5\n",
       "4  Alachua  01/12   37     PM2.5"
      ]
     },
     "execution_count": 104,
     "metadata": {},
     "output_type": "execute_result"
    }
   ],
   "source": [
    "#filter the air quality data by common counties\n",
    "airq_data = airq_data[airq_data['COUNTY'].isin(common_counties)]\n",
    "\n",
    "airq_data.head()"
   ]
  },
  {
   "cell_type": "code",
   "execution_count": 105,
   "id": "118ec4ec",
   "metadata": {},
   "outputs": [
    {
     "data": {
      "text/html": [
       "<div>\n",
       "<style scoped>\n",
       "    .dataframe tbody tr th:only-of-type {\n",
       "        vertical-align: middle;\n",
       "    }\n",
       "\n",
       "    .dataframe tbody tr th {\n",
       "        vertical-align: top;\n",
       "    }\n",
       "\n",
       "    .dataframe thead th {\n",
       "        text-align: right;\n",
       "    }\n",
       "</style>\n",
       "<table border=\"1\" class=\"dataframe\">\n",
       "  <thead>\n",
       "    <tr style=\"text-align: right;\">\n",
       "      <th></th>\n",
       "      <th>COUNTY</th>\n",
       "      <th>DATE</th>\n",
       "      <th>PRECIPITATION</th>\n",
       "      <th>MEAN TEMP</th>\n",
       "    </tr>\n",
       "  </thead>\n",
       "  <tbody>\n",
       "    <tr>\n",
       "      <th>0</th>\n",
       "      <td>Alachua</td>\n",
       "      <td>01/01</td>\n",
       "      <td>0.00000</td>\n",
       "      <td>52.5</td>\n",
       "    </tr>\n",
       "    <tr>\n",
       "      <th>1</th>\n",
       "      <td>Alachua</td>\n",
       "      <td>01/02</td>\n",
       "      <td>0.00000</td>\n",
       "      <td>61.5</td>\n",
       "    </tr>\n",
       "    <tr>\n",
       "      <th>2</th>\n",
       "      <td>Alachua</td>\n",
       "      <td>01/03</td>\n",
       "      <td>0.00001</td>\n",
       "      <td>73.0</td>\n",
       "    </tr>\n",
       "    <tr>\n",
       "      <th>3</th>\n",
       "      <td>Alachua</td>\n",
       "      <td>01/04</td>\n",
       "      <td>0.68000</td>\n",
       "      <td>63.0</td>\n",
       "    </tr>\n",
       "    <tr>\n",
       "      <th>4</th>\n",
       "      <td>Alachua</td>\n",
       "      <td>01/05</td>\n",
       "      <td>0.00000</td>\n",
       "      <td>50.0</td>\n",
       "    </tr>\n",
       "  </tbody>\n",
       "</table>\n",
       "</div>"
      ],
      "text/plain": [
       "    COUNTY   DATE  PRECIPITATION  MEAN TEMP\n",
       "0  Alachua  01/01        0.00000       52.5\n",
       "1  Alachua  01/02        0.00000       61.5\n",
       "2  Alachua  01/03        0.00001       73.0\n",
       "3  Alachua  01/04        0.68000       63.0\n",
       "4  Alachua  01/05        0.00000       50.0"
      ]
     },
     "execution_count": 105,
     "metadata": {},
     "output_type": "execute_result"
    }
   ],
   "source": [
    "weather_data = weather_data[weather_data['COUNTY'].isin(common_counties)]\n",
    "\n",
    "weather_data.head()"
   ]
  },
  {
   "cell_type": "markdown",
   "id": "dba54cb0",
   "metadata": {},
   "source": [
    "# PART 2: Exploratory Data Analysis\n",
    "\n",
    "Both air quality and traffic data from selected counties in Florida state have been preprocessed/cleaned. We can then visualize the trends both in traffic and air quality data in selected counties in Florida."
   ]
  },
  {
   "cell_type": "markdown",
   "id": "38b4bffa",
   "metadata": {},
   "source": [
    "## PART 2.1: Filtering DataFrame by County\n",
    "\n",
    "We can then filter our dataframes according to a specific county. Let us define a function `filter_data` that performs the following tasks:\n",
    "- Filter the air quality dataset to a specified county\n",
    "- Filter the traffic dataset to a specified county\n",
    "- Filter recorded dates, since there are particular dates that are not present in the traffic data, weather data, or air quality data\n",
    "- Combine datasets into a single dataframe\n",
    "\n",
    "The function takes in the traffic dataset (given by `traffic`), the air quality dataset (given by `air_quality`), and the specific county (given by `county`). This function will output a **new `pandas` DataFrame** such that each row represents the traffic volume and air quality index for a particular county at a particular date. An example, template dataframe is given below:\n",
    "\n",
    "|Date|AQI|traffic_volume|precipitation|temperature|\n",
    "|----|---|--------------|-------------|-----------|\n",
    "|01/01|XXX|XXXXX|XXXXX|XXXXX|\n",
    "|01/02|YYY|YYYYY|YYYYY|YYYYY|\n",
    "|01/03|ZZZ|ZZZZZ|ZZZZZ|ZZZZZ|\n",
    "|...|...|...|...|...|"
   ]
  },
  {
   "cell_type": "code",
   "execution_count": 106,
   "id": "cd061774",
   "metadata": {},
   "outputs": [],
   "source": [
    "def filter_data(traffic, air_quality, weather, county):\n",
    "    #create temporary datasets such that air quality and traffic data are filtered by specific county\n",
    "    temp1 = air_quality[air_quality['COUNTY'] == county]\n",
    "    temp2 = traffic[traffic['COUNTY'] == county]\n",
    "    temp3 = weather[weather['COUNTY'] == county]\n",
    "    \n",
    "    #filter recorded dates for both air quality and traffic data\n",
    "    date1 = list(temp2.columns[1:])\n",
    "    date2 = list(temp1['DATE'])\n",
    "    date3 = list(temp1['DATE'])\n",
    "    \n",
    "    #determine the common dates for both datasets using set intersection\n",
    "    common_dates = list(set(date1).intersection(set(date2)))\n",
    "    common_dates = list(set(common_dates).intersection(set(date3)))\n",
    "    common_dates.sort() #sort the common dates\n",
    "    \n",
    "    #further filter the temporary datasets such that the dates are in common dates\n",
    "    temp1 = temp1[temp1['DATE'].isin(common_dates)]\n",
    "    temp2 = temp2[common_dates]\n",
    "    temp3 = temp3[temp3['DATE'].isin(common_dates)]\n",
    "    \n",
    "    #define new dataframe to_return that is copied from AQI data\n",
    "    to_return = temp1[['DATE', 'AQI', 'COUNTY']].copy(deep = True)\n",
    "    to_return = to_return.merge(temp3[['DATE','PRECIPITATION','MEAN TEMP']], how='inner', on='DATE')\n",
    "    \n",
    "    #record the traffic volume values per common date, append it to tem_lis\n",
    "    tem_lis = []\n",
    "    for i in common_dates:\n",
    "        tem_lis.append(temp2[i].values[0])\n",
    "    \n",
    "    to_return['TRAFFIC'] = tem_lis #add tem_lis as a new column in to_return\n",
    "    to_return = to_return.reset_index(drop = True) #reset index\n",
    "    \n",
    "    return to_return"
   ]
  },
  {
   "cell_type": "markdown",
   "id": "54bb2095",
   "metadata": {},
   "source": [
    "We can test our newly-created function to a specific county. **For the cells below, you can change the value of `county` variable and run the cell to see the results for a specific county.** You may check for the list of common counties in both datasets by looking at the `common_counties` variable."
   ]
  },
  {
   "cell_type": "code",
   "execution_count": 107,
   "id": "3aa17749",
   "metadata": {},
   "outputs": [
    {
     "name": "stdout",
     "output_type": "stream",
     "text": [
      "['Miami-Dade', 'Pinellas', 'Palm Beach', 'Brevard', 'Columbia', 'Collier', 'Marion', 'Volusia', 'Martin', 'Duval', 'Sarasota', 'Alachua', 'Bay', 'Citrus', 'Orange', 'Leon', 'Seminole', 'Polk', 'Lee', 'Nassau', 'Broward', 'Hillsborough', 'Baker', 'Hamilton', 'Escambia']\n"
     ]
    }
   ],
   "source": [
    "print(common_counties)"
   ]
  },
  {
   "cell_type": "code",
   "execution_count": 108,
   "id": "51320080",
   "metadata": {},
   "outputs": [
    {
     "data": {
      "text/html": [
       "<div>\n",
       "<style scoped>\n",
       "    .dataframe tbody tr th:only-of-type {\n",
       "        vertical-align: middle;\n",
       "    }\n",
       "\n",
       "    .dataframe tbody tr th {\n",
       "        vertical-align: top;\n",
       "    }\n",
       "\n",
       "    .dataframe thead th {\n",
       "        text-align: right;\n",
       "    }\n",
       "</style>\n",
       "<table border=\"1\" class=\"dataframe\">\n",
       "  <thead>\n",
       "    <tr style=\"text-align: right;\">\n",
       "      <th></th>\n",
       "      <th>DATE</th>\n",
       "      <th>AQI</th>\n",
       "      <th>COUNTY</th>\n",
       "      <th>PRECIPITATION</th>\n",
       "      <th>MEAN TEMP</th>\n",
       "      <th>TRAFFIC</th>\n",
       "    </tr>\n",
       "  </thead>\n",
       "  <tbody>\n",
       "    <tr>\n",
       "      <th>0</th>\n",
       "      <td>01/03</td>\n",
       "      <td>29</td>\n",
       "      <td>Collier</td>\n",
       "      <td>0.0</td>\n",
       "      <td>67.5</td>\n",
       "      <td>338452</td>\n",
       "    </tr>\n",
       "    <tr>\n",
       "      <th>1</th>\n",
       "      <td>01/10</td>\n",
       "      <td>37</td>\n",
       "      <td>Collier</td>\n",
       "      <td>0.0</td>\n",
       "      <td>66.0</td>\n",
       "      <td>335605</td>\n",
       "    </tr>\n",
       "    <tr>\n",
       "      <th>2</th>\n",
       "      <td>01/11</td>\n",
       "      <td>45</td>\n",
       "      <td>Collier</td>\n",
       "      <td>0.0</td>\n",
       "      <td>71.5</td>\n",
       "      <td>278819</td>\n",
       "    </tr>\n",
       "    <tr>\n",
       "      <th>3</th>\n",
       "      <td>01/12</td>\n",
       "      <td>37</td>\n",
       "      <td>Collier</td>\n",
       "      <td>0.0</td>\n",
       "      <td>77.0</td>\n",
       "      <td>253325</td>\n",
       "    </tr>\n",
       "    <tr>\n",
       "      <th>4</th>\n",
       "      <td>01/13</td>\n",
       "      <td>34</td>\n",
       "      <td>Collier</td>\n",
       "      <td>0.0</td>\n",
       "      <td>76.0</td>\n",
       "      <td>310912</td>\n",
       "    </tr>\n",
       "    <tr>\n",
       "      <th>...</th>\n",
       "      <td>...</td>\n",
       "      <td>...</td>\n",
       "      <td>...</td>\n",
       "      <td>...</td>\n",
       "      <td>...</td>\n",
       "      <td>...</td>\n",
       "    </tr>\n",
       "    <tr>\n",
       "      <th>74</th>\n",
       "      <td>06/29</td>\n",
       "      <td>58</td>\n",
       "      <td>Collier</td>\n",
       "      <td>0.1</td>\n",
       "      <td>77.5</td>\n",
       "      <td>216490</td>\n",
       "    </tr>\n",
       "    <tr>\n",
       "      <th>75</th>\n",
       "      <td>06/30</td>\n",
       "      <td>62</td>\n",
       "      <td>Collier</td>\n",
       "      <td>0.0</td>\n",
       "      <td>78.5</td>\n",
       "      <td>214114</td>\n",
       "    </tr>\n",
       "    <tr>\n",
       "      <th>76</th>\n",
       "      <td>07/01</td>\n",
       "      <td>64</td>\n",
       "      <td>Collier</td>\n",
       "      <td>0.0</td>\n",
       "      <td>83.0</td>\n",
       "      <td>220510</td>\n",
       "    </tr>\n",
       "    <tr>\n",
       "      <th>77</th>\n",
       "      <td>07/02</td>\n",
       "      <td>62</td>\n",
       "      <td>Collier</td>\n",
       "      <td>0.0</td>\n",
       "      <td>86.5</td>\n",
       "      <td>234920</td>\n",
       "    </tr>\n",
       "    <tr>\n",
       "      <th>78</th>\n",
       "      <td>07/03</td>\n",
       "      <td>58</td>\n",
       "      <td>Collier</td>\n",
       "      <td>0.0</td>\n",
       "      <td>82.0</td>\n",
       "      <td>218501</td>\n",
       "    </tr>\n",
       "  </tbody>\n",
       "</table>\n",
       "<p>79 rows × 6 columns</p>\n",
       "</div>"
      ],
      "text/plain": [
       "     DATE  AQI   COUNTY  PRECIPITATION  MEAN TEMP  TRAFFIC\n",
       "0   01/03   29  Collier            0.0       67.5   338452\n",
       "1   01/10   37  Collier            0.0       66.0   335605\n",
       "2   01/11   45  Collier            0.0       71.5   278819\n",
       "3   01/12   37  Collier            0.0       77.0   253325\n",
       "4   01/13   34  Collier            0.0       76.0   310912\n",
       "..    ...  ...      ...            ...        ...      ...\n",
       "74  06/29   58  Collier            0.1       77.5   216490\n",
       "75  06/30   62  Collier            0.0       78.5   214114\n",
       "76  07/01   64  Collier            0.0       83.0   220510\n",
       "77  07/02   62  Collier            0.0       86.5   234920\n",
       "78  07/03   58  Collier            0.0       82.0   218501\n",
       "\n",
       "[79 rows x 6 columns]"
      ]
     },
     "execution_count": 108,
     "metadata": {},
     "output_type": "execute_result"
    }
   ],
   "source": [
    "#You may change the county variable according to a value in the common_counties variable\n",
    "county = \"Collier\"\n",
    "\n",
    "test_var = filter_data(traffic_data, airq_data, weather_data, county)\n",
    "test_var"
   ]
  },
  {
   "cell_type": "markdown",
   "id": "dfe4b079",
   "metadata": {},
   "source": [
    "## PART 2.2: Exploring the Correlation Between Traffic and AQI\n",
    "\n",
    "The `.corr()` method of `pandas` returns a dataframe that measures the correlation between two or more different variables. We want to know specifically how well-correlated the traffic data and AQI are for all common counties. Let us define a function `corr_measure` that returns the correlation value between the traffic data and AQI using Pearson's correlation coefficient.\n",
    "\n",
    "The values of the correlation coefficient determine the strength of association between the two variables. The table below shows the scale of correlation based on their Pearson's correlation coefficient.\n",
    "\n",
    "|Scale of correlation coefficient| Value |\n",
    "|--------------------------------|-------|\n",
    "| $0<r \\leq 0.19$                |Very Low|\n",
    "|$0.2 \\leq r \\leq 0.39$          |Low|\n",
    "|$0.4 \\leq r \\leq 0.59$          |Moderate|\n",
    "|$0.6 \\leq r \\leq 0.79$          |High|\n",
    "|$0.8 \\leq r \\leq 1.0$           |Very High|\n",
    "\n",
    "The function `corr_measure` takes in the following variables:\n",
    "- `x_axis`, corresponding to the name of the x-axis (string) => traffic volume\n",
    "- `y_axis`, corresponding to the name of the y-axis (string) => AQI\n",
    "- `src`, the pandas dataframe source\n",
    "\n",
    "This function will return a tuple corresponding to the correlation coefficient, the scale, and the direction of the correlation based on the computed correlation coefficient."
   ]
  },
  {
   "cell_type": "code",
   "execution_count": 109,
   "id": "73e9d0aa",
   "metadata": {},
   "outputs": [],
   "source": [
    "features = ['TRAFFIC', 'PRECIPITATION', 'MEAN TEMP']\n",
    "target = 'AQI'\n",
    "\n",
    "xy = features.copy()\n",
    "xy.append(target)\n",
    "\n",
    "\n",
    "def corr_measure(xy, src):\n",
    "    temp = src[xy].corr() #construct correlation dataframe\n",
    "    traffic_corr = temp.iloc[0][3]\n",
    "    precipitation_corr = temp.iloc[1][3]\n",
    "    temperature_corr = temp.iloc[2][3]\n",
    "    str = \"\"\n",
    "    \n",
    "    # # determine the strength of correlation based on the correlation coefficient\n",
    "    # if 0.8 <= abs(correlation_value) <= 1.0:\n",
    "    #     str = \"very high\"\n",
    "    # elif 0.6 <= abs(correlation_value) <= 0.79:\n",
    "    #     str = \"high\"\n",
    "    # elif 0.4 <= abs(correlation_value) <= 0.59:\n",
    "    #     str = \"moderate\"\n",
    "    # elif 0.2 <= abs(correlation_value) <= 0.39:\n",
    "    #     str = \"low\"\n",
    "    # elif 0 <= abs(correlation_value) <= 0.19:\n",
    "    #     str = \"very low\"\n",
    "    \n",
    "    # # determine direction of correlation based on the correlation coefficient\n",
    "    # if correlation_value > 0:\n",
    "    #     str += \" positive relationship\"\n",
    "    # elif correlation_value < 0:\n",
    "    #     str += \" negative relationship\"\n",
    "    \n",
    "    #return a tuple of correlation coefficient & description of correlation\n",
    "    return traffic_corr, precipitation_corr, temperature_corr"
   ]
  },
  {
   "cell_type": "markdown",
   "id": "f8594eaf",
   "metadata": {},
   "source": [
    "We then iterate the function over all common counties to determine the strength of the correlation of traffic data and AQI, and sort the results according to the absolute value of their correlation value."
   ]
  },
  {
   "cell_type": "code",
   "execution_count": 110,
   "id": "18fe163d",
   "metadata": {},
   "outputs": [],
   "source": [
    "results = []\n",
    "\n",
    "# Store the rankings of each county's correlation coefficients\n",
    "ranking = {\n",
    "    'COUNTY': common_counties,\n",
    "    'TRAFFIC': [],\n",
    "    'PRECIPITATION': [],\n",
    "    'TEMPERATURE': []\n",
    "    }\n",
    "\n",
    "for i in common_counties:\n",
    "    test_df = filter_data(traffic_data, airq_data, weather_data, i)\n",
    "    traffic, precipitation, temperature = corr_measure(xy, test_df)\n",
    "    results.append((i, traffic, precipitation, temperature))"
   ]
  },
  {
   "cell_type": "code",
   "execution_count": 111,
   "id": "42afe44b",
   "metadata": {
    "scrolled": true
   },
   "outputs": [
    {
     "data": {
      "text/html": [
       "<div>\n",
       "<style scoped>\n",
       "    .dataframe tbody tr th:only-of-type {\n",
       "        vertical-align: middle;\n",
       "    }\n",
       "\n",
       "    .dataframe tbody tr th {\n",
       "        vertical-align: top;\n",
       "    }\n",
       "\n",
       "    .dataframe thead th {\n",
       "        text-align: right;\n",
       "    }\n",
       "</style>\n",
       "<table border=\"1\" class=\"dataframe\">\n",
       "  <thead>\n",
       "    <tr style=\"text-align: right;\">\n",
       "      <th></th>\n",
       "      <th>COUNTY</th>\n",
       "      <th>TRAFFIC</th>\n",
       "      <th>PRECIPITATION</th>\n",
       "      <th>TEMPERATURE</th>\n",
       "      <th>AVG RANK</th>\n",
       "    </tr>\n",
       "  </thead>\n",
       "  <tbody>\n",
       "    <tr>\n",
       "      <th>3</th>\n",
       "      <td>Brevard</td>\n",
       "      <td>4</td>\n",
       "      <td>6</td>\n",
       "      <td>1</td>\n",
       "      <td>3.666667</td>\n",
       "    </tr>\n",
       "    <tr>\n",
       "      <th>15</th>\n",
       "      <td>Leon</td>\n",
       "      <td>1</td>\n",
       "      <td>3</td>\n",
       "      <td>8</td>\n",
       "      <td>4.000000</td>\n",
       "    </tr>\n",
       "    <tr>\n",
       "      <th>5</th>\n",
       "      <td>Collier</td>\n",
       "      <td>5</td>\n",
       "      <td>13</td>\n",
       "      <td>4</td>\n",
       "      <td>7.333333</td>\n",
       "    </tr>\n",
       "    <tr>\n",
       "      <th>18</th>\n",
       "      <td>Lee</td>\n",
       "      <td>3</td>\n",
       "      <td>14</td>\n",
       "      <td>5</td>\n",
       "      <td>7.333333</td>\n",
       "    </tr>\n",
       "    <tr>\n",
       "      <th>16</th>\n",
       "      <td>Seminole</td>\n",
       "      <td>19</td>\n",
       "      <td>5</td>\n",
       "      <td>2</td>\n",
       "      <td>8.666667</td>\n",
       "    </tr>\n",
       "  </tbody>\n",
       "</table>\n",
       "</div>"
      ],
      "text/plain": [
       "      COUNTY  TRAFFIC  PRECIPITATION  TEMPERATURE  AVG RANK\n",
       "3    Brevard        4              6            1  3.666667\n",
       "15      Leon        1              3            8  4.000000\n",
       "5    Collier        5             13            4  7.333333\n",
       "18       Lee        3             14            5  7.333333\n",
       "16  Seminole       19              5            2  8.666667"
      ]
     },
     "execution_count": 111,
     "metadata": {},
     "output_type": "execute_result"
    }
   ],
   "source": [
    "results.sort(key = lambda x: (abs(x[1])), reverse = True)\n",
    "\n",
    "for i in ranking['COUNTY']:\n",
    "    for j in range(len(results)):\n",
    "        if results[j][0] == i:\n",
    "            rank = j + 1\n",
    "            ranking['TRAFFIC'].append(rank)\n",
    "\n",
    "results.sort(key = lambda x: (abs(x[2])), reverse = True)\n",
    "\n",
    "for i in ranking['COUNTY']:\n",
    "    for j in range(len(results)):\n",
    "        if results[j][0] == i:\n",
    "            rank = j + 1\n",
    "            ranking['PRECIPITATION'].append(rank)\n",
    "\n",
    "results.sort(key = lambda x: (abs(x[3])), reverse = True)\n",
    "\n",
    "for i in ranking['COUNTY']:\n",
    "    for j in range(len(results)):\n",
    "        if results[j][0] == i:\n",
    "            rank = j + 1\n",
    "            ranking['TEMPERATURE'].append(rank)\n",
    "\n",
    "ranking_df = pd.DataFrame(data=ranking)# top5 = []\n",
    "ranking_df['AVG RANK'] = sum([ranking_df.TRAFFIC, ranking_df.PRECIPITATION, ranking_df.TEMPERATURE])/3\n",
    "ranking_df.sort_values('AVG RANK').head()"
   ]
  },
  {
   "cell_type": "code",
   "execution_count": 112,
   "id": "8623464e",
   "metadata": {},
   "outputs": [
    {
     "name": "stdout",
     "output_type": "stream",
     "text": [
      "(-0.3759101195122419, -0.18790646054411184, -0.4290760381318157)\n",
      "(-0.43795223059571814, -0.27371818610860693, 0.15091121744122352)\n",
      "(-0.29788094632917805, 0.13834823828530282, 0.2626586228210719)\n",
      "(-0.40905459295589935, -0.13626253812095426, 0.24685412842537166)\n",
      "(-0.12589836866280482, -0.25205360846893216, -0.28950397204759215)\n"
     ]
    }
   ],
   "source": [
    "print(corr_measure(xy, filter_data(traffic_data, airq_data, weather_data, \"Brevard\")))\n",
    "print(corr_measure(xy, filter_data(traffic_data, airq_data, weather_data, \"Leon\")))\n",
    "print(corr_measure(xy, filter_data(traffic_data, airq_data, weather_data, \"Collier\")))\n",
    "print(corr_measure(xy, filter_data(traffic_data, airq_data, weather_data, \"Lee\")))\n",
    "print(corr_measure(xy, filter_data(traffic_data, airq_data, weather_data, \"Seminole\")))"
   ]
  },
  {
   "cell_type": "markdown",
   "id": "47db269c",
   "metadata": {},
   "source": [
    "The top 5 counties with the strongest correlation among all common counties have moderate to low relationships.\n",
    "1. Brevard => -0.3759\n",
    "2. Leon => -0.4379\n",
    "3. Collier => -0.2979\n",
    "4. Lee => -0.4091\n",
    "5. Seminole => -0.1259\n",
    "\n",
    "Surprisingly, the direction of the correlation for the top 5 counties are **all negative**, which means that AQI tends to *decrease* whenever the traffic volume *increases* (inverse relationship). This relationship deviates from the assumption that AQI is expected to be directly proportional to the traffic volume. "
   ]
  },
  {
   "cell_type": "markdown",
   "id": "581d68f8",
   "metadata": {},
   "source": [
    "## PART 2.3: Scatterplots of Top 5 Counties in Terms of Correlation Coefficient\n",
    "\n",
    "Let us define a function `scatplot` that generates a scatterplot for the traffic and AQI data of a county. The scatterplot was generated using `seaborn`."
   ]
  },
  {
   "cell_type": "code",
   "execution_count": 113,
   "id": "7e3c9162",
   "metadata": {},
   "outputs": [],
   "source": [
    "def pairplot(x, y, src, cnty):\n",
    "    plot = sns.pairplot(src, x_vars=x, y_vars=y,kind='reg')\n",
    "    plot.fig.suptitle(cnty, y=1.08)"
   ]
  },
  {
   "cell_type": "code",
   "execution_count": 114,
   "id": "aa6cb8bf",
   "metadata": {},
   "outputs": [
    {
     "data": {
      "image/png": "[encoded data removed]",
      "text/plain": [
       "<Figure size 540x180 with 3 Axes>"
      ]
     },
     "metadata": {
      "needs_background": "light"
     },
     "output_type": "display_data"
    }
   ],
   "source": [
    "#scatterplot for Brevard\n",
    "county = \"Brevard\"\n",
    "\n",
    "sp_df = filter_data(traffic_data, airq_data, weather_data, county)\n",
    "\n",
    "pairplot(features, target, sp_df, county)"
   ]
  },
  {
   "cell_type": "code",
   "execution_count": 115,
   "id": "1724c474",
   "metadata": {},
   "outputs": [
    {
     "data": {
      "image/png": "[encoded data removed]",
      "text/plain": [
       "<Figure size 540x180 with 3 Axes>"
      ]
     },
     "metadata": {
      "needs_background": "light"
     },
     "output_type": "display_data"
    }
   ],
   "source": [
    "county = \"Leon\"\n",
    "\n",
    "sp_df = filter_data(traffic_data, airq_data, weather_data, county)\n",
    "\n",
    "pairplot(features, target, sp_df, county)"
   ]
  },
  {
   "cell_type": "code",
   "execution_count": 116,
   "id": "c0b3bace",
   "metadata": {},
   "outputs": [
    {
     "data": {
      "image/png": "[encoded data removed]",
      "text/plain": [
       "<Figure size 540x180 with 3 Axes>"
      ]
     },
     "metadata": {
      "needs_background": "light"
     },
     "output_type": "display_data"
    }
   ],
   "source": [
    "county = \"Collier\"\n",
    "\n",
    "sp_df = filter_data(traffic_data, airq_data, weather_data, county)\n",
    "\n",
    "pairplot(features, target, sp_df, county)"
   ]
  },
  {
   "cell_type": "code",
   "execution_count": 117,
   "id": "393a70ba",
   "metadata": {},
   "outputs": [
    {
     "data": {
      "image/png": "[encoded data removed]",
      "text/plain": [
       "<Figure size 540x180 with 3 Axes>"
      ]
     },
     "metadata": {
      "needs_background": "light"
     },
     "output_type": "display_data"
    }
   ],
   "source": [
    "county = \"Lee\"\n",
    "\n",
    "sp_df = filter_data(traffic_data, airq_data, weather_data, county)\n",
    "\n",
    "pairplot(features, target, sp_df, county)"
   ]
  },
  {
   "cell_type": "code",
   "execution_count": 118,
   "id": "4f52fc06",
   "metadata": {},
   "outputs": [
    {
     "data": {
      "image/png": "[encoded data removed]",
      "text/plain": [
       "<Figure size 540x180 with 3 Axes>"
      ]
     },
     "metadata": {
      "needs_background": "light"
     },
     "output_type": "display_data"
    }
   ],
   "source": [
    "county = \"Seminole\"\n",
    "\n",
    "sp_df = filter_data(traffic_data, airq_data, weather_data, county)\n",
    "pairplot(features, target, sp_df, county)"
   ]
  },
  {
   "cell_type": "markdown",
   "id": "cfbfa37b",
   "metadata": {},
   "source": [
    "## PART 2.4: Analysis of Correlation and Preparation for Modelling"
   ]
  },
  {
   "cell_type": "code",
   "execution_count": 130,
   "id": "fead286f",
   "metadata": {},
   "outputs": [],
   "source": [
    "def linreg_model(src, features, target):\n",
    "    features = ['TRAFFIC', 'PRECIPITATION', 'MEAN TEMP']\n",
    "    X = src[features]\n",
    "    y = src[target]\n",
    "\n",
    "    model = LinearRegression()\n",
    "    model.fit(X, y)\n",
    "\n",
    "    r_sq = model.score(X,y)\n",
    "\n",
    "    return model.coef_, r_sq"
   ]
  },
  {
   "cell_type": "code",
   "execution_count": 131,
   "id": "bb516ff2",
   "metadata": {},
   "outputs": [
    {
     "name": "stdout",
     "output_type": "stream",
     "text": [
      "(array([-3.27070088e-05, -6.14509067e+00, -7.55640872e-02]), 0.2559712646998791)\n"
     ]
    }
   ],
   "source": [
    "county = \"Brevard\"\n",
    "sp_df = filter_data(traffic_data, airq_data, weather_data, county)\n",
    "\n",
    "print(linreg_model(sp_df, features, target))"
   ]
  }
 ],
 "metadata": {
  "interpreter": {
   "hash": "a36ac3473f4f765ee1d32c07f947cfa193603dbfd7ba2aa7bf3e12c57f78d587"
  },
  "kernelspec": {
   "display_name": "Python 3.8.8 ('base')",
   "language": "python",
   "name": "python3"
  },
  "language_info": {
   "codemirror_mode": {
    "name": "ipython",
    "version": 3
   },
   "file_extension": ".py",
   "mimetype": "text/x-python",
   "name": "python",
   "nbconvert_exporter": "python",
   "pygments_lexer": "ipython3",
   "version": "3.8.8"
  }
 },
 "nbformat": 4,
 "nbformat_minor": 5
}
